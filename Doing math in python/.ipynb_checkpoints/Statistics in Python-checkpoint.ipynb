{
 "cells": [
  {
   "cell_type": "code",
   "execution_count": 4,
   "metadata": {
    "collapsed": true
   },
   "outputs": [],
   "source": [
    "import pandas"
   ]
  },
  {
   "cell_type": "code",
   "execution_count": 5,
   "metadata": {
    "collapsed": false
   },
   "outputs": [
    {
     "name": "stdout",
     "output_type": "stream",
     "text": [
      "/Users/stone20091652/GitHub/OMOOCData/Doing math in python\r\n"
     ]
    }
   ],
   "source": [
    "!pwd\n"
   ]
  },
  {
   "cell_type": "code",
   "execution_count": 6,
   "metadata": {
    "collapsed": false
   },
   "outputs": [],
   "source": [
    "data = pandas.read_csv('examples/brain_size.csv')"
   ]
  },
  {
   "cell_type": "code",
   "execution_count": 7,
   "metadata": {
    "collapsed": false
   },
   "outputs": [
    {
     "data": {
      "text/html": [
       "<div>\n",
       "<table border=\"1\" class=\"dataframe\">\n",
       "  <thead>\n",
       "    <tr style=\"text-align: right;\">\n",
       "      <th></th>\n",
       "      <th>;\"Gender\";\"FSIQ\";\"VIQ\";\"PIQ\";\"Weight\";\"Height\";\"MRI_Count\"</th>\n",
       "    </tr>\n",
       "  </thead>\n",
       "  <tbody>\n",
       "    <tr>\n",
       "      <th>0</th>\n",
       "      <td>1;\"Female\";133;132;124;\"118\";\"64.5\";816932</td>\n",
       "    </tr>\n",
       "    <tr>\n",
       "      <th>1</th>\n",
       "      <td>2;\"Male\";140;150;124;\".\";\"72.5\";1001121</td>\n",
       "    </tr>\n",
       "    <tr>\n",
       "      <th>2</th>\n",
       "      <td>3;\"Male\";139;123;150;\"143\";\"73.3\";1038437</td>\n",
       "    </tr>\n",
       "    <tr>\n",
       "      <th>3</th>\n",
       "      <td>4;\"Male\";133;129;128;\"172\";\"68.8\";965353</td>\n",
       "    </tr>\n",
       "    <tr>\n",
       "      <th>4</th>\n",
       "      <td>5;\"Female\";137;132;134;\"147\";\"65.0\";951545</td>\n",
       "    </tr>\n",
       "    <tr>\n",
       "      <th>5</th>\n",
       "      <td>6;\"Female\";99;90;110;\"146\";\"69.0\";928799</td>\n",
       "    </tr>\n",
       "    <tr>\n",
       "      <th>6</th>\n",
       "      <td>7;\"Female\";138;136;131;\"138\";\"64.5\";991305</td>\n",
       "    </tr>\n",
       "    <tr>\n",
       "      <th>7</th>\n",
       "      <td>8;\"Female\";92;90;98;\"175\";\"66.0\";854258</td>\n",
       "    </tr>\n",
       "    <tr>\n",
       "      <th>8</th>\n",
       "      <td>9;\"Male\";89;93;84;\"134\";\"66.3\";904858</td>\n",
       "    </tr>\n",
       "    <tr>\n",
       "      <th>9</th>\n",
       "      <td>10;\"Male\";133;114;147;\"172\";\"68.8\";955466</td>\n",
       "    </tr>\n",
       "    <tr>\n",
       "      <th>10</th>\n",
       "      <td>11;\"Female\";132;129;124;\"118\";\"64.5\";833868</td>\n",
       "    </tr>\n",
       "    <tr>\n",
       "      <th>11</th>\n",
       "      <td>12;\"Male\";141;150;128;\"151\";\"70.0\";1079549</td>\n",
       "    </tr>\n",
       "    <tr>\n",
       "      <th>12</th>\n",
       "      <td>13;\"Male\";135;129;124;\"155\";\"69.0\";924059</td>\n",
       "    </tr>\n",
       "    <tr>\n",
       "      <th>13</th>\n",
       "      <td>14;\"Female\";140;120;147;\"155\";\"70.5\";856472</td>\n",
       "    </tr>\n",
       "    <tr>\n",
       "      <th>14</th>\n",
       "      <td>15;\"Female\";96;100;90;\"146\";\"66.0\";878897</td>\n",
       "    </tr>\n",
       "    <tr>\n",
       "      <th>15</th>\n",
       "      <td>16;\"Female\";83;71;96;\"135\";\"68.0\";865363</td>\n",
       "    </tr>\n",
       "    <tr>\n",
       "      <th>16</th>\n",
       "      <td>17;\"Female\";132;132;120;\"127\";\"68.5\";852244</td>\n",
       "    </tr>\n",
       "    <tr>\n",
       "      <th>17</th>\n",
       "      <td>18;\"Male\";100;96;102;\"178\";\"73.5\";945088</td>\n",
       "    </tr>\n",
       "    <tr>\n",
       "      <th>18</th>\n",
       "      <td>19;\"Female\";101;112;84;\"136\";\"66.3\";808020</td>\n",
       "    </tr>\n",
       "    <tr>\n",
       "      <th>19</th>\n",
       "      <td>20;\"Male\";80;77;86;\"180\";\"70.0\";889083</td>\n",
       "    </tr>\n",
       "    <tr>\n",
       "      <th>20</th>\n",
       "      <td>21;\"Male\";83;83;86;\".\";\".\";892420</td>\n",
       "    </tr>\n",
       "    <tr>\n",
       "      <th>21</th>\n",
       "      <td>22;\"Male\";97;107;84;\"186\";\"76.5\";905940</td>\n",
       "    </tr>\n",
       "    <tr>\n",
       "      <th>22</th>\n",
       "      <td>23;\"Female\";135;129;134;\"122\";\"62.0\";790619</td>\n",
       "    </tr>\n",
       "    <tr>\n",
       "      <th>23</th>\n",
       "      <td>24;\"Male\";139;145;128;\"132\";\"68.0\";955003</td>\n",
       "    </tr>\n",
       "    <tr>\n",
       "      <th>24</th>\n",
       "      <td>25;\"Female\";91;86;102;\"114\";\"63.0\";831772</td>\n",
       "    </tr>\n",
       "    <tr>\n",
       "      <th>25</th>\n",
       "      <td>26;\"Male\";141;145;131;\"171\";\"72.0\";935494</td>\n",
       "    </tr>\n",
       "    <tr>\n",
       "      <th>26</th>\n",
       "      <td>27;\"Female\";85;90;84;\"140\";\"68.0\";798612</td>\n",
       "    </tr>\n",
       "    <tr>\n",
       "      <th>27</th>\n",
       "      <td>28;\"Male\";103;96;110;\"187\";\"77.0\";1062462</td>\n",
       "    </tr>\n",
       "    <tr>\n",
       "      <th>28</th>\n",
       "      <td>29;\"Female\";77;83;72;\"106\";\"63.0\";793549</td>\n",
       "    </tr>\n",
       "    <tr>\n",
       "      <th>29</th>\n",
       "      <td>30;\"Female\";130;126;124;\"159\";\"66.5\";866662</td>\n",
       "    </tr>\n",
       "    <tr>\n",
       "      <th>30</th>\n",
       "      <td>31;\"Female\";133;126;132;\"127\";\"62.5\";857782</td>\n",
       "    </tr>\n",
       "    <tr>\n",
       "      <th>31</th>\n",
       "      <td>32;\"Male\";144;145;137;\"191\";\"67.0\";949589</td>\n",
       "    </tr>\n",
       "    <tr>\n",
       "      <th>32</th>\n",
       "      <td>33;\"Male\";103;96;110;\"192\";\"75.5\";997925</td>\n",
       "    </tr>\n",
       "    <tr>\n",
       "      <th>33</th>\n",
       "      <td>34;\"Male\";90;96;86;\"181\";\"69.0\";879987</td>\n",
       "    </tr>\n",
       "    <tr>\n",
       "      <th>34</th>\n",
       "      <td>35;\"Female\";83;90;81;\"143\";\"66.5\";834344</td>\n",
       "    </tr>\n",
       "    <tr>\n",
       "      <th>35</th>\n",
       "      <td>36;\"Female\";133;129;128;\"153\";\"66.5\";948066</td>\n",
       "    </tr>\n",
       "    <tr>\n",
       "      <th>36</th>\n",
       "      <td>37;\"Male\";140;150;124;\"144\";\"70.5\";949395</td>\n",
       "    </tr>\n",
       "    <tr>\n",
       "      <th>37</th>\n",
       "      <td>38;\"Female\";88;86;94;\"139\";\"64.5\";893983</td>\n",
       "    </tr>\n",
       "    <tr>\n",
       "      <th>38</th>\n",
       "      <td>39;\"Male\";81;90;74;\"148\";\"74.0\";930016</td>\n",
       "    </tr>\n",
       "    <tr>\n",
       "      <th>39</th>\n",
       "      <td>40;\"Male\";89;91;89;\"179\";\"75.5\";935863</td>\n",
       "    </tr>\n",
       "  </tbody>\n",
       "</table>\n",
       "</div>"
      ],
      "text/plain": [
       "   ;\"Gender\";\"FSIQ\";\"VIQ\";\"PIQ\";\"Weight\";\"Height\";\"MRI_Count\"\n",
       "0          1;\"Female\";133;132;124;\"118\";\"64.5\";816932        \n",
       "1             2;\"Male\";140;150;124;\".\";\"72.5\";1001121        \n",
       "2           3;\"Male\";139;123;150;\"143\";\"73.3\";1038437        \n",
       "3            4;\"Male\";133;129;128;\"172\";\"68.8\";965353        \n",
       "4          5;\"Female\";137;132;134;\"147\";\"65.0\";951545        \n",
       "5            6;\"Female\";99;90;110;\"146\";\"69.0\";928799        \n",
       "6          7;\"Female\";138;136;131;\"138\";\"64.5\";991305        \n",
       "7             8;\"Female\";92;90;98;\"175\";\"66.0\";854258        \n",
       "8               9;\"Male\";89;93;84;\"134\";\"66.3\";904858        \n",
       "9           10;\"Male\";133;114;147;\"172\";\"68.8\";955466        \n",
       "10        11;\"Female\";132;129;124;\"118\";\"64.5\";833868        \n",
       "11         12;\"Male\";141;150;128;\"151\";\"70.0\";1079549        \n",
       "12          13;\"Male\";135;129;124;\"155\";\"69.0\";924059        \n",
       "13        14;\"Female\";140;120;147;\"155\";\"70.5\";856472        \n",
       "14          15;\"Female\";96;100;90;\"146\";\"66.0\";878897        \n",
       "15           16;\"Female\";83;71;96;\"135\";\"68.0\";865363        \n",
       "16        17;\"Female\";132;132;120;\"127\";\"68.5\";852244        \n",
       "17           18;\"Male\";100;96;102;\"178\";\"73.5\";945088        \n",
       "18         19;\"Female\";101;112;84;\"136\";\"66.3\";808020        \n",
       "19             20;\"Male\";80;77;86;\"180\";\"70.0\";889083        \n",
       "20                  21;\"Male\";83;83;86;\".\";\".\";892420        \n",
       "21            22;\"Male\";97;107;84;\"186\";\"76.5\";905940        \n",
       "22        23;\"Female\";135;129;134;\"122\";\"62.0\";790619        \n",
       "23          24;\"Male\";139;145;128;\"132\";\"68.0\";955003        \n",
       "24          25;\"Female\";91;86;102;\"114\";\"63.0\";831772        \n",
       "25          26;\"Male\";141;145;131;\"171\";\"72.0\";935494        \n",
       "26           27;\"Female\";85;90;84;\"140\";\"68.0\";798612        \n",
       "27          28;\"Male\";103;96;110;\"187\";\"77.0\";1062462        \n",
       "28           29;\"Female\";77;83;72;\"106\";\"63.0\";793549        \n",
       "29        30;\"Female\";130;126;124;\"159\";\"66.5\";866662        \n",
       "30        31;\"Female\";133;126;132;\"127\";\"62.5\";857782        \n",
       "31          32;\"Male\";144;145;137;\"191\";\"67.0\";949589        \n",
       "32           33;\"Male\";103;96;110;\"192\";\"75.5\";997925        \n",
       "33             34;\"Male\";90;96;86;\"181\";\"69.0\";879987        \n",
       "34           35;\"Female\";83;90;81;\"143\";\"66.5\";834344        \n",
       "35        36;\"Female\";133;129;128;\"153\";\"66.5\";948066        \n",
       "36          37;\"Male\";140;150;124;\"144\";\"70.5\";949395        \n",
       "37           38;\"Female\";88;86;94;\"139\";\"64.5\";893983        \n",
       "38             39;\"Male\";81;90;74;\"148\";\"74.0\";930016        \n",
       "39             40;\"Male\";89;91;89;\"179\";\"75.5\";935863        "
      ]
     },
     "execution_count": 7,
     "metadata": {},
     "output_type": "execute_result"
    }
   ],
   "source": [
    "data"
   ]
  },
  {
   "cell_type": "code",
   "execution_count": 8,
   "metadata": {
    "collapsed": false
   },
   "outputs": [
    {
     "data": {
      "text/html": [
       "<div>\n",
       "<table border=\"1\" class=\"dataframe\">\n",
       "  <thead>\n",
       "    <tr style=\"text-align: right;\">\n",
       "      <th></th>\n",
       "      <th>;\"Gender\";\"FSIQ\";\"VIQ\";\"PIQ\";\"Weight\";\"Height\";\"MRI_Count\"</th>\n",
       "    </tr>\n",
       "  </thead>\n",
       "  <tbody>\n",
       "    <tr>\n",
       "      <th>0</th>\n",
       "      <td>1;\"Female\";133;132;124;\"118\";\"64.5\";816932</td>\n",
       "    </tr>\n",
       "    <tr>\n",
       "      <th>1</th>\n",
       "      <td>2;\"Male\";140;150;124;\".\";\"72.5\";1001121</td>\n",
       "    </tr>\n",
       "    <tr>\n",
       "      <th>2</th>\n",
       "      <td>3;\"Male\";139;123;150;\"143\";\"73.3\";1038437</td>\n",
       "    </tr>\n",
       "    <tr>\n",
       "      <th>3</th>\n",
       "      <td>4;\"Male\";133;129;128;\"172\";\"68.8\";965353</td>\n",
       "    </tr>\n",
       "    <tr>\n",
       "      <th>4</th>\n",
       "      <td>5;\"Female\";137;132;134;\"147\";\"65.0\";951545</td>\n",
       "    </tr>\n",
       "  </tbody>\n",
       "</table>\n",
       "</div>"
      ],
      "text/plain": [
       "  ;\"Gender\";\"FSIQ\";\"VIQ\";\"PIQ\";\"Weight\";\"Height\";\"MRI_Count\"\n",
       "0         1;\"Female\";133;132;124;\"118\";\"64.5\";816932        \n",
       "1            2;\"Male\";140;150;124;\".\";\"72.5\";1001121        \n",
       "2          3;\"Male\";139;123;150;\"143\";\"73.3\";1038437        \n",
       "3           4;\"Male\";133;129;128;\"172\";\"68.8\";965353        \n",
       "4         5;\"Female\";137;132;134;\"147\";\"65.0\";951545        "
      ]
     },
     "execution_count": 8,
     "metadata": {},
     "output_type": "execute_result"
    }
   ],
   "source": [
    "data.head()"
   ]
  },
  {
   "cell_type": "code",
   "execution_count": 12,
   "metadata": {
    "collapsed": false
   },
   "outputs": [],
   "source": [
    "data = pandas.read_csv('examples/brain_size.csv', sep = ';', na_values = '.')  ##补全没有显示的值"
   ]
  },
  {
   "cell_type": "code",
   "execution_count": 13,
   "metadata": {
    "collapsed": false
   },
   "outputs": [
    {
     "data": {
      "text/html": [
       "<div>\n",
       "<table border=\"1\" class=\"dataframe\">\n",
       "  <thead>\n",
       "    <tr style=\"text-align: right;\">\n",
       "      <th></th>\n",
       "      <th>Unnamed: 0</th>\n",
       "      <th>Gender</th>\n",
       "      <th>FSIQ</th>\n",
       "      <th>VIQ</th>\n",
       "      <th>PIQ</th>\n",
       "      <th>Weight</th>\n",
       "      <th>Height</th>\n",
       "      <th>MRI_Count</th>\n",
       "    </tr>\n",
       "  </thead>\n",
       "  <tbody>\n",
       "    <tr>\n",
       "      <th>0</th>\n",
       "      <td>1</td>\n",
       "      <td>Female</td>\n",
       "      <td>133</td>\n",
       "      <td>132</td>\n",
       "      <td>124</td>\n",
       "      <td>118</td>\n",
       "      <td>64.5</td>\n",
       "      <td>816932</td>\n",
       "    </tr>\n",
       "    <tr>\n",
       "      <th>1</th>\n",
       "      <td>2</td>\n",
       "      <td>Male</td>\n",
       "      <td>140</td>\n",
       "      <td>150</td>\n",
       "      <td>124</td>\n",
       "      <td>NaN</td>\n",
       "      <td>72.5</td>\n",
       "      <td>1001121</td>\n",
       "    </tr>\n",
       "    <tr>\n",
       "      <th>2</th>\n",
       "      <td>3</td>\n",
       "      <td>Male</td>\n",
       "      <td>139</td>\n",
       "      <td>123</td>\n",
       "      <td>150</td>\n",
       "      <td>143</td>\n",
       "      <td>73.3</td>\n",
       "      <td>1038437</td>\n",
       "    </tr>\n",
       "    <tr>\n",
       "      <th>3</th>\n",
       "      <td>4</td>\n",
       "      <td>Male</td>\n",
       "      <td>133</td>\n",
       "      <td>129</td>\n",
       "      <td>128</td>\n",
       "      <td>172</td>\n",
       "      <td>68.8</td>\n",
       "      <td>965353</td>\n",
       "    </tr>\n",
       "    <tr>\n",
       "      <th>4</th>\n",
       "      <td>5</td>\n",
       "      <td>Female</td>\n",
       "      <td>137</td>\n",
       "      <td>132</td>\n",
       "      <td>134</td>\n",
       "      <td>147</td>\n",
       "      <td>65.0</td>\n",
       "      <td>951545</td>\n",
       "    </tr>\n",
       "    <tr>\n",
       "      <th>5</th>\n",
       "      <td>6</td>\n",
       "      <td>Female</td>\n",
       "      <td>99</td>\n",
       "      <td>90</td>\n",
       "      <td>110</td>\n",
       "      <td>146</td>\n",
       "      <td>69.0</td>\n",
       "      <td>928799</td>\n",
       "    </tr>\n",
       "    <tr>\n",
       "      <th>6</th>\n",
       "      <td>7</td>\n",
       "      <td>Female</td>\n",
       "      <td>138</td>\n",
       "      <td>136</td>\n",
       "      <td>131</td>\n",
       "      <td>138</td>\n",
       "      <td>64.5</td>\n",
       "      <td>991305</td>\n",
       "    </tr>\n",
       "    <tr>\n",
       "      <th>7</th>\n",
       "      <td>8</td>\n",
       "      <td>Female</td>\n",
       "      <td>92</td>\n",
       "      <td>90</td>\n",
       "      <td>98</td>\n",
       "      <td>175</td>\n",
       "      <td>66.0</td>\n",
       "      <td>854258</td>\n",
       "    </tr>\n",
       "    <tr>\n",
       "      <th>8</th>\n",
       "      <td>9</td>\n",
       "      <td>Male</td>\n",
       "      <td>89</td>\n",
       "      <td>93</td>\n",
       "      <td>84</td>\n",
       "      <td>134</td>\n",
       "      <td>66.3</td>\n",
       "      <td>904858</td>\n",
       "    </tr>\n",
       "    <tr>\n",
       "      <th>9</th>\n",
       "      <td>10</td>\n",
       "      <td>Male</td>\n",
       "      <td>133</td>\n",
       "      <td>114</td>\n",
       "      <td>147</td>\n",
       "      <td>172</td>\n",
       "      <td>68.8</td>\n",
       "      <td>955466</td>\n",
       "    </tr>\n",
       "    <tr>\n",
       "      <th>10</th>\n",
       "      <td>11</td>\n",
       "      <td>Female</td>\n",
       "      <td>132</td>\n",
       "      <td>129</td>\n",
       "      <td>124</td>\n",
       "      <td>118</td>\n",
       "      <td>64.5</td>\n",
       "      <td>833868</td>\n",
       "    </tr>\n",
       "    <tr>\n",
       "      <th>11</th>\n",
       "      <td>12</td>\n",
       "      <td>Male</td>\n",
       "      <td>141</td>\n",
       "      <td>150</td>\n",
       "      <td>128</td>\n",
       "      <td>151</td>\n",
       "      <td>70.0</td>\n",
       "      <td>1079549</td>\n",
       "    </tr>\n",
       "    <tr>\n",
       "      <th>12</th>\n",
       "      <td>13</td>\n",
       "      <td>Male</td>\n",
       "      <td>135</td>\n",
       "      <td>129</td>\n",
       "      <td>124</td>\n",
       "      <td>155</td>\n",
       "      <td>69.0</td>\n",
       "      <td>924059</td>\n",
       "    </tr>\n",
       "    <tr>\n",
       "      <th>13</th>\n",
       "      <td>14</td>\n",
       "      <td>Female</td>\n",
       "      <td>140</td>\n",
       "      <td>120</td>\n",
       "      <td>147</td>\n",
       "      <td>155</td>\n",
       "      <td>70.5</td>\n",
       "      <td>856472</td>\n",
       "    </tr>\n",
       "    <tr>\n",
       "      <th>14</th>\n",
       "      <td>15</td>\n",
       "      <td>Female</td>\n",
       "      <td>96</td>\n",
       "      <td>100</td>\n",
       "      <td>90</td>\n",
       "      <td>146</td>\n",
       "      <td>66.0</td>\n",
       "      <td>878897</td>\n",
       "    </tr>\n",
       "    <tr>\n",
       "      <th>15</th>\n",
       "      <td>16</td>\n",
       "      <td>Female</td>\n",
       "      <td>83</td>\n",
       "      <td>71</td>\n",
       "      <td>96</td>\n",
       "      <td>135</td>\n",
       "      <td>68.0</td>\n",
       "      <td>865363</td>\n",
       "    </tr>\n",
       "    <tr>\n",
       "      <th>16</th>\n",
       "      <td>17</td>\n",
       "      <td>Female</td>\n",
       "      <td>132</td>\n",
       "      <td>132</td>\n",
       "      <td>120</td>\n",
       "      <td>127</td>\n",
       "      <td>68.5</td>\n",
       "      <td>852244</td>\n",
       "    </tr>\n",
       "    <tr>\n",
       "      <th>17</th>\n",
       "      <td>18</td>\n",
       "      <td>Male</td>\n",
       "      <td>100</td>\n",
       "      <td>96</td>\n",
       "      <td>102</td>\n",
       "      <td>178</td>\n",
       "      <td>73.5</td>\n",
       "      <td>945088</td>\n",
       "    </tr>\n",
       "    <tr>\n",
       "      <th>18</th>\n",
       "      <td>19</td>\n",
       "      <td>Female</td>\n",
       "      <td>101</td>\n",
       "      <td>112</td>\n",
       "      <td>84</td>\n",
       "      <td>136</td>\n",
       "      <td>66.3</td>\n",
       "      <td>808020</td>\n",
       "    </tr>\n",
       "    <tr>\n",
       "      <th>19</th>\n",
       "      <td>20</td>\n",
       "      <td>Male</td>\n",
       "      <td>80</td>\n",
       "      <td>77</td>\n",
       "      <td>86</td>\n",
       "      <td>180</td>\n",
       "      <td>70.0</td>\n",
       "      <td>889083</td>\n",
       "    </tr>\n",
       "    <tr>\n",
       "      <th>20</th>\n",
       "      <td>21</td>\n",
       "      <td>Male</td>\n",
       "      <td>83</td>\n",
       "      <td>83</td>\n",
       "      <td>86</td>\n",
       "      <td>NaN</td>\n",
       "      <td>NaN</td>\n",
       "      <td>892420</td>\n",
       "    </tr>\n",
       "    <tr>\n",
       "      <th>21</th>\n",
       "      <td>22</td>\n",
       "      <td>Male</td>\n",
       "      <td>97</td>\n",
       "      <td>107</td>\n",
       "      <td>84</td>\n",
       "      <td>186</td>\n",
       "      <td>76.5</td>\n",
       "      <td>905940</td>\n",
       "    </tr>\n",
       "    <tr>\n",
       "      <th>22</th>\n",
       "      <td>23</td>\n",
       "      <td>Female</td>\n",
       "      <td>135</td>\n",
       "      <td>129</td>\n",
       "      <td>134</td>\n",
       "      <td>122</td>\n",
       "      <td>62.0</td>\n",
       "      <td>790619</td>\n",
       "    </tr>\n",
       "    <tr>\n",
       "      <th>23</th>\n",
       "      <td>24</td>\n",
       "      <td>Male</td>\n",
       "      <td>139</td>\n",
       "      <td>145</td>\n",
       "      <td>128</td>\n",
       "      <td>132</td>\n",
       "      <td>68.0</td>\n",
       "      <td>955003</td>\n",
       "    </tr>\n",
       "    <tr>\n",
       "      <th>24</th>\n",
       "      <td>25</td>\n",
       "      <td>Female</td>\n",
       "      <td>91</td>\n",
       "      <td>86</td>\n",
       "      <td>102</td>\n",
       "      <td>114</td>\n",
       "      <td>63.0</td>\n",
       "      <td>831772</td>\n",
       "    </tr>\n",
       "    <tr>\n",
       "      <th>25</th>\n",
       "      <td>26</td>\n",
       "      <td>Male</td>\n",
       "      <td>141</td>\n",
       "      <td>145</td>\n",
       "      <td>131</td>\n",
       "      <td>171</td>\n",
       "      <td>72.0</td>\n",
       "      <td>935494</td>\n",
       "    </tr>\n",
       "    <tr>\n",
       "      <th>26</th>\n",
       "      <td>27</td>\n",
       "      <td>Female</td>\n",
       "      <td>85</td>\n",
       "      <td>90</td>\n",
       "      <td>84</td>\n",
       "      <td>140</td>\n",
       "      <td>68.0</td>\n",
       "      <td>798612</td>\n",
       "    </tr>\n",
       "    <tr>\n",
       "      <th>27</th>\n",
       "      <td>28</td>\n",
       "      <td>Male</td>\n",
       "      <td>103</td>\n",
       "      <td>96</td>\n",
       "      <td>110</td>\n",
       "      <td>187</td>\n",
       "      <td>77.0</td>\n",
       "      <td>1062462</td>\n",
       "    </tr>\n",
       "    <tr>\n",
       "      <th>28</th>\n",
       "      <td>29</td>\n",
       "      <td>Female</td>\n",
       "      <td>77</td>\n",
       "      <td>83</td>\n",
       "      <td>72</td>\n",
       "      <td>106</td>\n",
       "      <td>63.0</td>\n",
       "      <td>793549</td>\n",
       "    </tr>\n",
       "    <tr>\n",
       "      <th>29</th>\n",
       "      <td>30</td>\n",
       "      <td>Female</td>\n",
       "      <td>130</td>\n",
       "      <td>126</td>\n",
       "      <td>124</td>\n",
       "      <td>159</td>\n",
       "      <td>66.5</td>\n",
       "      <td>866662</td>\n",
       "    </tr>\n",
       "    <tr>\n",
       "      <th>30</th>\n",
       "      <td>31</td>\n",
       "      <td>Female</td>\n",
       "      <td>133</td>\n",
       "      <td>126</td>\n",
       "      <td>132</td>\n",
       "      <td>127</td>\n",
       "      <td>62.5</td>\n",
       "      <td>857782</td>\n",
       "    </tr>\n",
       "    <tr>\n",
       "      <th>31</th>\n",
       "      <td>32</td>\n",
       "      <td>Male</td>\n",
       "      <td>144</td>\n",
       "      <td>145</td>\n",
       "      <td>137</td>\n",
       "      <td>191</td>\n",
       "      <td>67.0</td>\n",
       "      <td>949589</td>\n",
       "    </tr>\n",
       "    <tr>\n",
       "      <th>32</th>\n",
       "      <td>33</td>\n",
       "      <td>Male</td>\n",
       "      <td>103</td>\n",
       "      <td>96</td>\n",
       "      <td>110</td>\n",
       "      <td>192</td>\n",
       "      <td>75.5</td>\n",
       "      <td>997925</td>\n",
       "    </tr>\n",
       "    <tr>\n",
       "      <th>33</th>\n",
       "      <td>34</td>\n",
       "      <td>Male</td>\n",
       "      <td>90</td>\n",
       "      <td>96</td>\n",
       "      <td>86</td>\n",
       "      <td>181</td>\n",
       "      <td>69.0</td>\n",
       "      <td>879987</td>\n",
       "    </tr>\n",
       "    <tr>\n",
       "      <th>34</th>\n",
       "      <td>35</td>\n",
       "      <td>Female</td>\n",
       "      <td>83</td>\n",
       "      <td>90</td>\n",
       "      <td>81</td>\n",
       "      <td>143</td>\n",
       "      <td>66.5</td>\n",
       "      <td>834344</td>\n",
       "    </tr>\n",
       "    <tr>\n",
       "      <th>35</th>\n",
       "      <td>36</td>\n",
       "      <td>Female</td>\n",
       "      <td>133</td>\n",
       "      <td>129</td>\n",
       "      <td>128</td>\n",
       "      <td>153</td>\n",
       "      <td>66.5</td>\n",
       "      <td>948066</td>\n",
       "    </tr>\n",
       "    <tr>\n",
       "      <th>36</th>\n",
       "      <td>37</td>\n",
       "      <td>Male</td>\n",
       "      <td>140</td>\n",
       "      <td>150</td>\n",
       "      <td>124</td>\n",
       "      <td>144</td>\n",
       "      <td>70.5</td>\n",
       "      <td>949395</td>\n",
       "    </tr>\n",
       "    <tr>\n",
       "      <th>37</th>\n",
       "      <td>38</td>\n",
       "      <td>Female</td>\n",
       "      <td>88</td>\n",
       "      <td>86</td>\n",
       "      <td>94</td>\n",
       "      <td>139</td>\n",
       "      <td>64.5</td>\n",
       "      <td>893983</td>\n",
       "    </tr>\n",
       "    <tr>\n",
       "      <th>38</th>\n",
       "      <td>39</td>\n",
       "      <td>Male</td>\n",
       "      <td>81</td>\n",
       "      <td>90</td>\n",
       "      <td>74</td>\n",
       "      <td>148</td>\n",
       "      <td>74.0</td>\n",
       "      <td>930016</td>\n",
       "    </tr>\n",
       "    <tr>\n",
       "      <th>39</th>\n",
       "      <td>40</td>\n",
       "      <td>Male</td>\n",
       "      <td>89</td>\n",
       "      <td>91</td>\n",
       "      <td>89</td>\n",
       "      <td>179</td>\n",
       "      <td>75.5</td>\n",
       "      <td>935863</td>\n",
       "    </tr>\n",
       "  </tbody>\n",
       "</table>\n",
       "</div>"
      ],
      "text/plain": [
       "    Unnamed: 0  Gender  FSIQ  VIQ  PIQ  Weight  Height  MRI_Count\n",
       "0            1  Female   133  132  124     118    64.5     816932\n",
       "1            2    Male   140  150  124     NaN    72.5    1001121\n",
       "2            3    Male   139  123  150     143    73.3    1038437\n",
       "3            4    Male   133  129  128     172    68.8     965353\n",
       "4            5  Female   137  132  134     147    65.0     951545\n",
       "5            6  Female    99   90  110     146    69.0     928799\n",
       "6            7  Female   138  136  131     138    64.5     991305\n",
       "7            8  Female    92   90   98     175    66.0     854258\n",
       "8            9    Male    89   93   84     134    66.3     904858\n",
       "9           10    Male   133  114  147     172    68.8     955466\n",
       "10          11  Female   132  129  124     118    64.5     833868\n",
       "11          12    Male   141  150  128     151    70.0    1079549\n",
       "12          13    Male   135  129  124     155    69.0     924059\n",
       "13          14  Female   140  120  147     155    70.5     856472\n",
       "14          15  Female    96  100   90     146    66.0     878897\n",
       "15          16  Female    83   71   96     135    68.0     865363\n",
       "16          17  Female   132  132  120     127    68.5     852244\n",
       "17          18    Male   100   96  102     178    73.5     945088\n",
       "18          19  Female   101  112   84     136    66.3     808020\n",
       "19          20    Male    80   77   86     180    70.0     889083\n",
       "20          21    Male    83   83   86     NaN     NaN     892420\n",
       "21          22    Male    97  107   84     186    76.5     905940\n",
       "22          23  Female   135  129  134     122    62.0     790619\n",
       "23          24    Male   139  145  128     132    68.0     955003\n",
       "24          25  Female    91   86  102     114    63.0     831772\n",
       "25          26    Male   141  145  131     171    72.0     935494\n",
       "26          27  Female    85   90   84     140    68.0     798612\n",
       "27          28    Male   103   96  110     187    77.0    1062462\n",
       "28          29  Female    77   83   72     106    63.0     793549\n",
       "29          30  Female   130  126  124     159    66.5     866662\n",
       "30          31  Female   133  126  132     127    62.5     857782\n",
       "31          32    Male   144  145  137     191    67.0     949589\n",
       "32          33    Male   103   96  110     192    75.5     997925\n",
       "33          34    Male    90   96   86     181    69.0     879987\n",
       "34          35  Female    83   90   81     143    66.5     834344\n",
       "35          36  Female   133  129  128     153    66.5     948066\n",
       "36          37    Male   140  150  124     144    70.5     949395\n",
       "37          38  Female    88   86   94     139    64.5     893983\n",
       "38          39    Male    81   90   74     148    74.0     930016\n",
       "39          40    Male    89   91   89     179    75.5     935863"
      ]
     },
     "execution_count": 13,
     "metadata": {},
     "output_type": "execute_result"
    }
   ],
   "source": [
    "data"
   ]
  },
  {
   "cell_type": "code",
   "execution_count": 18,
   "metadata": {
    "collapsed": true
   },
   "outputs": [],
   "source": [
    "import numpy as no\n",
    "import numpy as np\n"
   ]
  },
  {
   "cell_type": "code",
   "execution_count": 19,
   "metadata": {
    "collapsed": false
   },
   "outputs": [],
   "source": [
    "t = np.linspace(-6, 6, 20)"
   ]
  },
  {
   "cell_type": "code",
   "execution_count": 20,
   "metadata": {
    "collapsed": true
   },
   "outputs": [],
   "source": [
    "np.linspace?"
   ]
  },
  {
   "cell_type": "code",
   "execution_count": 21,
   "metadata": {
    "collapsed": true
   },
   "outputs": [],
   "source": [
    "sin_t = np.sin(t)"
   ]
  },
  {
   "cell_type": "code",
   "execution_count": 22,
   "metadata": {
    "collapsed": true
   },
   "outputs": [],
   "source": [
    "cos_t = np.cos(t)"
   ]
  },
  {
   "cell_type": "code",
   "execution_count": 23,
   "metadata": {
    "collapsed": false
   },
   "outputs": [
    {
     "data": {
      "text/html": [
       "<div>\n",
       "<table border=\"1\" class=\"dataframe\">\n",
       "  <thead>\n",
       "    <tr style=\"text-align: right;\">\n",
       "      <th></th>\n",
       "      <th>cos</th>\n",
       "      <th>sin</th>\n",
       "      <th>t</th>\n",
       "    </tr>\n",
       "  </thead>\n",
       "  <tbody>\n",
       "    <tr>\n",
       "      <th>0</th>\n",
       "      <td>0.960170</td>\n",
       "      <td>0.279415</td>\n",
       "      <td>-6.000000</td>\n",
       "    </tr>\n",
       "    <tr>\n",
       "      <th>1</th>\n",
       "      <td>0.609977</td>\n",
       "      <td>0.792419</td>\n",
       "      <td>-5.368421</td>\n",
       "    </tr>\n",
       "    <tr>\n",
       "      <th>2</th>\n",
       "      <td>0.024451</td>\n",
       "      <td>0.999701</td>\n",
       "      <td>-4.736842</td>\n",
       "    </tr>\n",
       "    <tr>\n",
       "      <th>3</th>\n",
       "      <td>-0.570509</td>\n",
       "      <td>0.821291</td>\n",
       "      <td>-4.105263</td>\n",
       "    </tr>\n",
       "    <tr>\n",
       "      <th>4</th>\n",
       "      <td>-0.945363</td>\n",
       "      <td>0.326021</td>\n",
       "      <td>-3.473684</td>\n",
       "    </tr>\n",
       "    <tr>\n",
       "      <th>5</th>\n",
       "      <td>-0.955488</td>\n",
       "      <td>-0.295030</td>\n",
       "      <td>-2.842105</td>\n",
       "    </tr>\n",
       "    <tr>\n",
       "      <th>6</th>\n",
       "      <td>-0.596979</td>\n",
       "      <td>-0.802257</td>\n",
       "      <td>-2.210526</td>\n",
       "    </tr>\n",
       "    <tr>\n",
       "      <th>7</th>\n",
       "      <td>-0.008151</td>\n",
       "      <td>-0.999967</td>\n",
       "      <td>-1.578947</td>\n",
       "    </tr>\n",
       "    <tr>\n",
       "      <th>8</th>\n",
       "      <td>0.583822</td>\n",
       "      <td>-0.811882</td>\n",
       "      <td>-0.947368</td>\n",
       "    </tr>\n",
       "    <tr>\n",
       "      <th>9</th>\n",
       "      <td>0.950551</td>\n",
       "      <td>-0.310567</td>\n",
       "      <td>-0.315789</td>\n",
       "    </tr>\n",
       "    <tr>\n",
       "      <th>10</th>\n",
       "      <td>0.950551</td>\n",
       "      <td>0.310567</td>\n",
       "      <td>0.315789</td>\n",
       "    </tr>\n",
       "    <tr>\n",
       "      <th>11</th>\n",
       "      <td>0.583822</td>\n",
       "      <td>0.811882</td>\n",
       "      <td>0.947368</td>\n",
       "    </tr>\n",
       "    <tr>\n",
       "      <th>12</th>\n",
       "      <td>-0.008151</td>\n",
       "      <td>0.999967</td>\n",
       "      <td>1.578947</td>\n",
       "    </tr>\n",
       "    <tr>\n",
       "      <th>13</th>\n",
       "      <td>-0.596979</td>\n",
       "      <td>0.802257</td>\n",
       "      <td>2.210526</td>\n",
       "    </tr>\n",
       "    <tr>\n",
       "      <th>14</th>\n",
       "      <td>-0.955488</td>\n",
       "      <td>0.295030</td>\n",
       "      <td>2.842105</td>\n",
       "    </tr>\n",
       "    <tr>\n",
       "      <th>15</th>\n",
       "      <td>-0.945363</td>\n",
       "      <td>-0.326021</td>\n",
       "      <td>3.473684</td>\n",
       "    </tr>\n",
       "    <tr>\n",
       "      <th>16</th>\n",
       "      <td>-0.570509</td>\n",
       "      <td>-0.821291</td>\n",
       "      <td>4.105263</td>\n",
       "    </tr>\n",
       "    <tr>\n",
       "      <th>17</th>\n",
       "      <td>0.024451</td>\n",
       "      <td>-0.999701</td>\n",
       "      <td>4.736842</td>\n",
       "    </tr>\n",
       "    <tr>\n",
       "      <th>18</th>\n",
       "      <td>0.609977</td>\n",
       "      <td>-0.792419</td>\n",
       "      <td>5.368421</td>\n",
       "    </tr>\n",
       "    <tr>\n",
       "      <th>19</th>\n",
       "      <td>0.960170</td>\n",
       "      <td>-0.279415</td>\n",
       "      <td>6.000000</td>\n",
       "    </tr>\n",
       "  </tbody>\n",
       "</table>\n",
       "</div>"
      ],
      "text/plain": [
       "         cos       sin         t\n",
       "0   0.960170  0.279415 -6.000000\n",
       "1   0.609977  0.792419 -5.368421\n",
       "2   0.024451  0.999701 -4.736842\n",
       "3  -0.570509  0.821291 -4.105263\n",
       "4  -0.945363  0.326021 -3.473684\n",
       "5  -0.955488 -0.295030 -2.842105\n",
       "6  -0.596979 -0.802257 -2.210526\n",
       "7  -0.008151 -0.999967 -1.578947\n",
       "8   0.583822 -0.811882 -0.947368\n",
       "9   0.950551 -0.310567 -0.315789\n",
       "10  0.950551  0.310567  0.315789\n",
       "11  0.583822  0.811882  0.947368\n",
       "12 -0.008151  0.999967  1.578947\n",
       "13 -0.596979  0.802257  2.210526\n",
       "14 -0.955488  0.295030  2.842105\n",
       "15 -0.945363 -0.326021  3.473684\n",
       "16 -0.570509 -0.821291  4.105263\n",
       "17  0.024451 -0.999701  4.736842\n",
       "18  0.609977 -0.792419  5.368421\n",
       "19  0.960170 -0.279415  6.000000"
      ]
     },
     "execution_count": 23,
     "metadata": {},
     "output_type": "execute_result"
    }
   ],
   "source": [
    "pandas.DataFrame({'t' : t, 'sin' : sin_t, 'cos' : cos_t})"
   ]
  },
  {
   "cell_type": "code",
   "execution_count": 24,
   "metadata": {
    "collapsed": false
   },
   "outputs": [
    {
     "data": {
      "text/plain": [
       "(40, 8)"
      ]
     },
     "execution_count": 24,
     "metadata": {},
     "output_type": "execute_result"
    }
   ],
   "source": [
    "data.shape"
   ]
  },
  {
   "cell_type": "code",
   "execution_count": 25,
   "metadata": {
    "collapsed": false
   },
   "outputs": [
    {
     "data": {
      "text/plain": [
       "Index([u'Unnamed: 0', u'Gender', u'FSIQ', u'VIQ', u'PIQ', u'Weight', u'Height',\n",
       "       u'MRI_Count'],\n",
       "      dtype='object')"
      ]
     },
     "execution_count": 25,
     "metadata": {},
     "output_type": "execute_result"
    }
   ],
   "source": [
    "data.columns"
   ]
  },
  {
   "cell_type": "code",
   "execution_count": 26,
   "metadata": {
    "collapsed": false
   },
   "outputs": [
    {
     "data": {
      "text/plain": [
       "0     Female\n",
       "1       Male\n",
       "2       Male\n",
       "3       Male\n",
       "4     Female\n",
       "5     Female\n",
       "6     Female\n",
       "7     Female\n",
       "8       Male\n",
       "9       Male\n",
       "10    Female\n",
       "11      Male\n",
       "12      Male\n",
       "13    Female\n",
       "14    Female\n",
       "15    Female\n",
       "16    Female\n",
       "17      Male\n",
       "18    Female\n",
       "19      Male\n",
       "20      Male\n",
       "21      Male\n",
       "22    Female\n",
       "23      Male\n",
       "24    Female\n",
       "25      Male\n",
       "26    Female\n",
       "27      Male\n",
       "28    Female\n",
       "29    Female\n",
       "30    Female\n",
       "31      Male\n",
       "32      Male\n",
       "33      Male\n",
       "34    Female\n",
       "35    Female\n",
       "36      Male\n",
       "37    Female\n",
       "38      Male\n",
       "39      Male\n",
       "Name: Gender, dtype: object"
      ]
     },
     "execution_count": 26,
     "metadata": {},
     "output_type": "execute_result"
    }
   ],
   "source": [
    "data['Gender']"
   ]
  },
  {
   "cell_type": "code",
   "execution_count": 29,
   "metadata": {
    "collapsed": false
   },
   "outputs": [
    {
     "data": {
      "text/html": [
       "<div>\n",
       "<table border=\"1\" class=\"dataframe\">\n",
       "  <thead>\n",
       "    <tr style=\"text-align: right;\">\n",
       "      <th></th>\n",
       "      <th>Unnamed: 0</th>\n",
       "      <th>Gender</th>\n",
       "      <th>FSIQ</th>\n",
       "      <th>VIQ</th>\n",
       "      <th>PIQ</th>\n",
       "      <th>Weight</th>\n",
       "      <th>Height</th>\n",
       "      <th>MRI_Count</th>\n",
       "    </tr>\n",
       "  </thead>\n",
       "  <tbody>\n",
       "    <tr>\n",
       "      <th>0</th>\n",
       "      <td>1</td>\n",
       "      <td>Female</td>\n",
       "      <td>133</td>\n",
       "      <td>132</td>\n",
       "      <td>124</td>\n",
       "      <td>118</td>\n",
       "      <td>64.5</td>\n",
       "      <td>816932</td>\n",
       "    </tr>\n",
       "    <tr>\n",
       "      <th>4</th>\n",
       "      <td>5</td>\n",
       "      <td>Female</td>\n",
       "      <td>137</td>\n",
       "      <td>132</td>\n",
       "      <td>134</td>\n",
       "      <td>147</td>\n",
       "      <td>65.0</td>\n",
       "      <td>951545</td>\n",
       "    </tr>\n",
       "    <tr>\n",
       "      <th>5</th>\n",
       "      <td>6</td>\n",
       "      <td>Female</td>\n",
       "      <td>99</td>\n",
       "      <td>90</td>\n",
       "      <td>110</td>\n",
       "      <td>146</td>\n",
       "      <td>69.0</td>\n",
       "      <td>928799</td>\n",
       "    </tr>\n",
       "    <tr>\n",
       "      <th>6</th>\n",
       "      <td>7</td>\n",
       "      <td>Female</td>\n",
       "      <td>138</td>\n",
       "      <td>136</td>\n",
       "      <td>131</td>\n",
       "      <td>138</td>\n",
       "      <td>64.5</td>\n",
       "      <td>991305</td>\n",
       "    </tr>\n",
       "    <tr>\n",
       "      <th>7</th>\n",
       "      <td>8</td>\n",
       "      <td>Female</td>\n",
       "      <td>92</td>\n",
       "      <td>90</td>\n",
       "      <td>98</td>\n",
       "      <td>175</td>\n",
       "      <td>66.0</td>\n",
       "      <td>854258</td>\n",
       "    </tr>\n",
       "    <tr>\n",
       "      <th>10</th>\n",
       "      <td>11</td>\n",
       "      <td>Female</td>\n",
       "      <td>132</td>\n",
       "      <td>129</td>\n",
       "      <td>124</td>\n",
       "      <td>118</td>\n",
       "      <td>64.5</td>\n",
       "      <td>833868</td>\n",
       "    </tr>\n",
       "    <tr>\n",
       "      <th>13</th>\n",
       "      <td>14</td>\n",
       "      <td>Female</td>\n",
       "      <td>140</td>\n",
       "      <td>120</td>\n",
       "      <td>147</td>\n",
       "      <td>155</td>\n",
       "      <td>70.5</td>\n",
       "      <td>856472</td>\n",
       "    </tr>\n",
       "    <tr>\n",
       "      <th>14</th>\n",
       "      <td>15</td>\n",
       "      <td>Female</td>\n",
       "      <td>96</td>\n",
       "      <td>100</td>\n",
       "      <td>90</td>\n",
       "      <td>146</td>\n",
       "      <td>66.0</td>\n",
       "      <td>878897</td>\n",
       "    </tr>\n",
       "    <tr>\n",
       "      <th>15</th>\n",
       "      <td>16</td>\n",
       "      <td>Female</td>\n",
       "      <td>83</td>\n",
       "      <td>71</td>\n",
       "      <td>96</td>\n",
       "      <td>135</td>\n",
       "      <td>68.0</td>\n",
       "      <td>865363</td>\n",
       "    </tr>\n",
       "    <tr>\n",
       "      <th>16</th>\n",
       "      <td>17</td>\n",
       "      <td>Female</td>\n",
       "      <td>132</td>\n",
       "      <td>132</td>\n",
       "      <td>120</td>\n",
       "      <td>127</td>\n",
       "      <td>68.5</td>\n",
       "      <td>852244</td>\n",
       "    </tr>\n",
       "    <tr>\n",
       "      <th>18</th>\n",
       "      <td>19</td>\n",
       "      <td>Female</td>\n",
       "      <td>101</td>\n",
       "      <td>112</td>\n",
       "      <td>84</td>\n",
       "      <td>136</td>\n",
       "      <td>66.3</td>\n",
       "      <td>808020</td>\n",
       "    </tr>\n",
       "    <tr>\n",
       "      <th>22</th>\n",
       "      <td>23</td>\n",
       "      <td>Female</td>\n",
       "      <td>135</td>\n",
       "      <td>129</td>\n",
       "      <td>134</td>\n",
       "      <td>122</td>\n",
       "      <td>62.0</td>\n",
       "      <td>790619</td>\n",
       "    </tr>\n",
       "    <tr>\n",
       "      <th>24</th>\n",
       "      <td>25</td>\n",
       "      <td>Female</td>\n",
       "      <td>91</td>\n",
       "      <td>86</td>\n",
       "      <td>102</td>\n",
       "      <td>114</td>\n",
       "      <td>63.0</td>\n",
       "      <td>831772</td>\n",
       "    </tr>\n",
       "    <tr>\n",
       "      <th>26</th>\n",
       "      <td>27</td>\n",
       "      <td>Female</td>\n",
       "      <td>85</td>\n",
       "      <td>90</td>\n",
       "      <td>84</td>\n",
       "      <td>140</td>\n",
       "      <td>68.0</td>\n",
       "      <td>798612</td>\n",
       "    </tr>\n",
       "    <tr>\n",
       "      <th>28</th>\n",
       "      <td>29</td>\n",
       "      <td>Female</td>\n",
       "      <td>77</td>\n",
       "      <td>83</td>\n",
       "      <td>72</td>\n",
       "      <td>106</td>\n",
       "      <td>63.0</td>\n",
       "      <td>793549</td>\n",
       "    </tr>\n",
       "    <tr>\n",
       "      <th>29</th>\n",
       "      <td>30</td>\n",
       "      <td>Female</td>\n",
       "      <td>130</td>\n",
       "      <td>126</td>\n",
       "      <td>124</td>\n",
       "      <td>159</td>\n",
       "      <td>66.5</td>\n",
       "      <td>866662</td>\n",
       "    </tr>\n",
       "    <tr>\n",
       "      <th>30</th>\n",
       "      <td>31</td>\n",
       "      <td>Female</td>\n",
       "      <td>133</td>\n",
       "      <td>126</td>\n",
       "      <td>132</td>\n",
       "      <td>127</td>\n",
       "      <td>62.5</td>\n",
       "      <td>857782</td>\n",
       "    </tr>\n",
       "    <tr>\n",
       "      <th>34</th>\n",
       "      <td>35</td>\n",
       "      <td>Female</td>\n",
       "      <td>83</td>\n",
       "      <td>90</td>\n",
       "      <td>81</td>\n",
       "      <td>143</td>\n",
       "      <td>66.5</td>\n",
       "      <td>834344</td>\n",
       "    </tr>\n",
       "    <tr>\n",
       "      <th>35</th>\n",
       "      <td>36</td>\n",
       "      <td>Female</td>\n",
       "      <td>133</td>\n",
       "      <td>129</td>\n",
       "      <td>128</td>\n",
       "      <td>153</td>\n",
       "      <td>66.5</td>\n",
       "      <td>948066</td>\n",
       "    </tr>\n",
       "    <tr>\n",
       "      <th>37</th>\n",
       "      <td>38</td>\n",
       "      <td>Female</td>\n",
       "      <td>88</td>\n",
       "      <td>86</td>\n",
       "      <td>94</td>\n",
       "      <td>139</td>\n",
       "      <td>64.5</td>\n",
       "      <td>893983</td>\n",
       "    </tr>\n",
       "  </tbody>\n",
       "</table>\n",
       "</div>"
      ],
      "text/plain": [
       "    Unnamed: 0  Gender  FSIQ  VIQ  PIQ  Weight  Height  MRI_Count\n",
       "0            1  Female   133  132  124     118    64.5     816932\n",
       "4            5  Female   137  132  134     147    65.0     951545\n",
       "5            6  Female    99   90  110     146    69.0     928799\n",
       "6            7  Female   138  136  131     138    64.5     991305\n",
       "7            8  Female    92   90   98     175    66.0     854258\n",
       "10          11  Female   132  129  124     118    64.5     833868\n",
       "13          14  Female   140  120  147     155    70.5     856472\n",
       "14          15  Female    96  100   90     146    66.0     878897\n",
       "15          16  Female    83   71   96     135    68.0     865363\n",
       "16          17  Female   132  132  120     127    68.5     852244\n",
       "18          19  Female   101  112   84     136    66.3     808020\n",
       "22          23  Female   135  129  134     122    62.0     790619\n",
       "24          25  Female    91   86  102     114    63.0     831772\n",
       "26          27  Female    85   90   84     140    68.0     798612\n",
       "28          29  Female    77   83   72     106    63.0     793549\n",
       "29          30  Female   130  126  124     159    66.5     866662\n",
       "30          31  Female   133  126  132     127    62.5     857782\n",
       "34          35  Female    83   90   81     143    66.5     834344\n",
       "35          36  Female   133  129  128     153    66.5     948066\n",
       "37          38  Female    88   86   94     139    64.5     893983"
      ]
     },
     "execution_count": 29,
     "metadata": {},
     "output_type": "execute_result"
    }
   ],
   "source": [
    "data[data['Gender'] == 'Female'] #只看Female的数据"
   ]
  },
  {
   "cell_type": "code",
   "execution_count": 34,
   "metadata": {
    "collapsed": false
   },
   "outputs": [
    {
     "data": {
      "text/plain": [
       "0     132\n",
       "4     132\n",
       "5      90\n",
       "6     136\n",
       "7      90\n",
       "10    129\n",
       "13    120\n",
       "14    100\n",
       "15     71\n",
       "16    132\n",
       "18    112\n",
       "22    129\n",
       "24     86\n",
       "26     90\n",
       "28     83\n",
       "29    126\n",
       "30    126\n",
       "34     90\n",
       "35    129\n",
       "37     86\n",
       "Name: VIQ, dtype: int64"
      ]
     },
     "execution_count": 34,
     "metadata": {},
     "output_type": "execute_result"
    }
   ],
   "source": [
    "data[data['Gender'] == 'Female']['VIQ']#Female 中 VIQ"
   ]
  },
  {
   "cell_type": "code",
   "execution_count": 36,
   "metadata": {
    "collapsed": false
   },
   "outputs": [
    {
     "data": {
      "text/plain": [
       "109.45"
      ]
     },
     "execution_count": 36,
     "metadata": {},
     "output_type": "execute_result"
    }
   ],
   "source": [
    "data[data['Gender'] == 'Female']['VIQ'].mean()#VIQ的平均数"
   ]
  },
  {
   "cell_type": "code",
   "execution_count": 37,
   "metadata": {
    "collapsed": false
   },
   "outputs": [
    {
     "data": {
      "text/html": [
       "<div>\n",
       "<table border=\"1\" class=\"dataframe\">\n",
       "  <thead>\n",
       "    <tr style=\"text-align: right;\">\n",
       "      <th></th>\n",
       "      <th>Unnamed: 0</th>\n",
       "      <th>FSIQ</th>\n",
       "      <th>VIQ</th>\n",
       "      <th>PIQ</th>\n",
       "      <th>Weight</th>\n",
       "      <th>Height</th>\n",
       "      <th>MRI_Count</th>\n",
       "    </tr>\n",
       "  </thead>\n",
       "  <tbody>\n",
       "    <tr>\n",
       "      <th>count</th>\n",
       "      <td>40.000000</td>\n",
       "      <td>40.000000</td>\n",
       "      <td>40.000000</td>\n",
       "      <td>40.00000</td>\n",
       "      <td>38.000000</td>\n",
       "      <td>39.000000</td>\n",
       "      <td>40.000000</td>\n",
       "    </tr>\n",
       "    <tr>\n",
       "      <th>mean</th>\n",
       "      <td>20.500000</td>\n",
       "      <td>113.450000</td>\n",
       "      <td>112.350000</td>\n",
       "      <td>111.02500</td>\n",
       "      <td>151.052632</td>\n",
       "      <td>68.525641</td>\n",
       "      <td>908755.000000</td>\n",
       "    </tr>\n",
       "    <tr>\n",
       "      <th>std</th>\n",
       "      <td>11.690452</td>\n",
       "      <td>24.082071</td>\n",
       "      <td>23.616107</td>\n",
       "      <td>22.47105</td>\n",
       "      <td>23.478509</td>\n",
       "      <td>3.994649</td>\n",
       "      <td>72282.048931</td>\n",
       "    </tr>\n",
       "    <tr>\n",
       "      <th>min</th>\n",
       "      <td>1.000000</td>\n",
       "      <td>77.000000</td>\n",
       "      <td>71.000000</td>\n",
       "      <td>72.00000</td>\n",
       "      <td>106.000000</td>\n",
       "      <td>62.000000</td>\n",
       "      <td>790619.000000</td>\n",
       "    </tr>\n",
       "    <tr>\n",
       "      <th>25%</th>\n",
       "      <td>10.750000</td>\n",
       "      <td>89.750000</td>\n",
       "      <td>90.000000</td>\n",
       "      <td>88.25000</td>\n",
       "      <td>135.250000</td>\n",
       "      <td>66.000000</td>\n",
       "      <td>855918.500000</td>\n",
       "    </tr>\n",
       "    <tr>\n",
       "      <th>50%</th>\n",
       "      <td>20.500000</td>\n",
       "      <td>116.500000</td>\n",
       "      <td>113.000000</td>\n",
       "      <td>115.00000</td>\n",
       "      <td>146.500000</td>\n",
       "      <td>68.000000</td>\n",
       "      <td>905399.000000</td>\n",
       "    </tr>\n",
       "    <tr>\n",
       "      <th>75%</th>\n",
       "      <td>30.250000</td>\n",
       "      <td>135.500000</td>\n",
       "      <td>129.750000</td>\n",
       "      <td>128.00000</td>\n",
       "      <td>172.000000</td>\n",
       "      <td>70.500000</td>\n",
       "      <td>950078.000000</td>\n",
       "    </tr>\n",
       "    <tr>\n",
       "      <th>max</th>\n",
       "      <td>40.000000</td>\n",
       "      <td>144.000000</td>\n",
       "      <td>150.000000</td>\n",
       "      <td>150.00000</td>\n",
       "      <td>192.000000</td>\n",
       "      <td>77.000000</td>\n",
       "      <td>1079549.000000</td>\n",
       "    </tr>\n",
       "  </tbody>\n",
       "</table>\n",
       "</div>"
      ],
      "text/plain": [
       "       Unnamed: 0        FSIQ         VIQ        PIQ      Weight     Height  \\\n",
       "count   40.000000   40.000000   40.000000   40.00000   38.000000  39.000000   \n",
       "mean    20.500000  113.450000  112.350000  111.02500  151.052632  68.525641   \n",
       "std     11.690452   24.082071   23.616107   22.47105   23.478509   3.994649   \n",
       "min      1.000000   77.000000   71.000000   72.00000  106.000000  62.000000   \n",
       "25%     10.750000   89.750000   90.000000   88.25000  135.250000  66.000000   \n",
       "50%     20.500000  116.500000  113.000000  115.00000  146.500000  68.000000   \n",
       "75%     30.250000  135.500000  129.750000  128.00000  172.000000  70.500000   \n",
       "max     40.000000  144.000000  150.000000  150.00000  192.000000  77.000000   \n",
       "\n",
       "            MRI_Count  \n",
       "count       40.000000  \n",
       "mean    908755.000000  \n",
       "std      72282.048931  \n",
       "min     790619.000000  \n",
       "25%     855918.500000  \n",
       "50%     905399.000000  \n",
       "75%     950078.000000  \n",
       "max    1079549.000000  "
      ]
     },
     "execution_count": 37,
     "metadata": {},
     "output_type": "execute_result"
    }
   ],
   "source": [
    "data.describe() #"
   ]
  },
  {
   "cell_type": "code",
   "execution_count": 39,
   "metadata": {
    "collapsed": false
   },
   "outputs": [],
   "source": [
    "groupby_gender = data.groupby('Gender')"
   ]
  },
  {
   "cell_type": "code",
   "execution_count": 42,
   "metadata": {
    "collapsed": false
   },
   "outputs": [
    {
     "name": "stdout",
     "output_type": "stream",
     "text": [
      "Female Unnamed: 0        19.650\n",
      "FSIQ             111.900\n",
      "VIQ              109.450\n",
      "PIQ              110.450\n",
      "Weight           137.200\n",
      "Height            65.765\n",
      "MRI_Count     862654.600\n",
      "dtype: float64\n",
      "Male Unnamed: 0        21.350000\n",
      "FSIQ             115.000000\n",
      "VIQ              115.250000\n",
      "PIQ              111.600000\n",
      "Weight           166.444444\n",
      "Height            71.431579\n",
      "MRI_Count     954855.400000\n",
      "dtype: float64\n"
     ]
    }
   ],
   "source": [
    "for gender, value in groupby_gender: #groupby can quick look the dataset\n",
    "    print gender, value.mean()"
   ]
  },
  {
   "cell_type": "code",
   "execution_count": 43,
   "metadata": {
    "collapsed": false
   },
   "outputs": [
    {
     "data": {
      "text/html": [
       "<div>\n",
       "<table border=\"1\" class=\"dataframe\">\n",
       "  <thead>\n",
       "    <tr style=\"text-align: right;\">\n",
       "      <th></th>\n",
       "      <th>Unnamed: 0</th>\n",
       "      <th>FSIQ</th>\n",
       "      <th>VIQ</th>\n",
       "      <th>PIQ</th>\n",
       "      <th>Weight</th>\n",
       "      <th>Height</th>\n",
       "      <th>MRI_Count</th>\n",
       "    </tr>\n",
       "    <tr>\n",
       "      <th>Gender</th>\n",
       "      <th></th>\n",
       "      <th></th>\n",
       "      <th></th>\n",
       "      <th></th>\n",
       "      <th></th>\n",
       "      <th></th>\n",
       "      <th></th>\n",
       "    </tr>\n",
       "  </thead>\n",
       "  <tbody>\n",
       "    <tr>\n",
       "      <th>Female</th>\n",
       "      <td>19.65</td>\n",
       "      <td>111.9</td>\n",
       "      <td>109.45</td>\n",
       "      <td>110.45</td>\n",
       "      <td>137.200000</td>\n",
       "      <td>65.765000</td>\n",
       "      <td>862654.6</td>\n",
       "    </tr>\n",
       "    <tr>\n",
       "      <th>Male</th>\n",
       "      <td>21.35</td>\n",
       "      <td>115.0</td>\n",
       "      <td>115.25</td>\n",
       "      <td>111.60</td>\n",
       "      <td>166.444444</td>\n",
       "      <td>71.431579</td>\n",
       "      <td>954855.4</td>\n",
       "    </tr>\n",
       "  </tbody>\n",
       "</table>\n",
       "</div>"
      ],
      "text/plain": [
       "        Unnamed: 0   FSIQ     VIQ     PIQ      Weight     Height  MRI_Count\n",
       "Gender                                                                     \n",
       "Female       19.65  111.9  109.45  110.45  137.200000  65.765000   862654.6\n",
       "Male         21.35  115.0  115.25  111.60  166.444444  71.431579   954855.4"
      ]
     },
     "execution_count": 43,
     "metadata": {},
     "output_type": "execute_result"
    }
   ],
   "source": [
    "groupby_gender.mean()"
   ]
  },
  {
   "cell_type": "markdown",
   "metadata": {},
   "source": [
    "+ What is the mean value for VIQ for the full population?\n",
    "+ How many males/females were included in this study?\n",
    "Hint use ‘tab completion’ to find out the methods that can be called, instead of ‘mean’ in the above example.\n",
    "+ What is the average value of MRI counts expressed in log units, for males and females?"
   ]
  },
  {
   "cell_type": "code",
   "execution_count": 44,
   "metadata": {
    "collapsed": false
   },
   "outputs": [
    {
     "data": {
      "text/plain": [
       "112.35"
      ]
     },
     "execution_count": 44,
     "metadata": {},
     "output_type": "execute_result"
    }
   ],
   "source": [
    "data['VIQ'].mean()"
   ]
  },
  {
   "cell_type": "code",
   "execution_count": 45,
   "metadata": {
    "collapsed": false
   },
   "outputs": [
    {
     "data": {
      "text/html": [
       "<div>\n",
       "<table border=\"1\" class=\"dataframe\">\n",
       "  <thead>\n",
       "    <tr style=\"text-align: right;\">\n",
       "      <th></th>\n",
       "      <th>Unnamed: 0</th>\n",
       "      <th>FSIQ</th>\n",
       "      <th>VIQ</th>\n",
       "      <th>PIQ</th>\n",
       "      <th>Weight</th>\n",
       "      <th>Height</th>\n",
       "      <th>MRI_Count</th>\n",
       "    </tr>\n",
       "    <tr>\n",
       "      <th>Gender</th>\n",
       "      <th></th>\n",
       "      <th></th>\n",
       "      <th></th>\n",
       "      <th></th>\n",
       "      <th></th>\n",
       "      <th></th>\n",
       "      <th></th>\n",
       "    </tr>\n",
       "  </thead>\n",
       "  <tbody>\n",
       "    <tr>\n",
       "      <th>Female</th>\n",
       "      <td>20</td>\n",
       "      <td>20</td>\n",
       "      <td>20</td>\n",
       "      <td>20</td>\n",
       "      <td>20</td>\n",
       "      <td>20</td>\n",
       "      <td>20</td>\n",
       "    </tr>\n",
       "    <tr>\n",
       "      <th>Male</th>\n",
       "      <td>20</td>\n",
       "      <td>20</td>\n",
       "      <td>20</td>\n",
       "      <td>20</td>\n",
       "      <td>18</td>\n",
       "      <td>19</td>\n",
       "      <td>20</td>\n",
       "    </tr>\n",
       "  </tbody>\n",
       "</table>\n",
       "</div>"
      ],
      "text/plain": [
       "        Unnamed: 0  FSIQ  VIQ  PIQ  Weight  Height  MRI_Count\n",
       "Gender                                                       \n",
       "Female          20    20   20   20      20      20         20\n",
       "Male            20    20   20   20      18      19         20"
      ]
     },
     "execution_count": 45,
     "metadata": {},
     "output_type": "execute_result"
    }
   ],
   "source": [
    "groupby_gender.count()"
   ]
  },
  {
   "cell_type": "code",
   "execution_count": 46,
   "metadata": {
    "collapsed": false
   },
   "outputs": [
    {
     "name": "stdout",
     "output_type": "stream",
     "text": [
      "Female 13.6658295129\n",
      "Male 13.767731055\n"
     ]
    }
   ],
   "source": [
    "for gender, value in groupby_gender['MRI_Count']:\n",
    "    print gender, np.log(value).mean()"
   ]
  },
  {
   "cell_type": "code",
   "execution_count": 48,
   "metadata": {
    "collapsed": false
   },
   "outputs": [
    {
     "data": {
      "text/plain": [
       "Gender\n",
       "Female    13.667769\n",
       "Male      13.769315\n",
       "Name: MRI_Count, dtype: float64"
      ]
     },
     "execution_count": 48,
     "metadata": {},
     "output_type": "execute_result"
    }
   ],
   "source": [
    "np.log(groupby_gender['MRI_Count'].mean())"
   ]
  },
  {
   "cell_type": "code",
   "execution_count": 49,
   "metadata": {
    "collapsed": true
   },
   "outputs": [],
   "source": [
    "np.log?"
   ]
  },
  {
   "cell_type": "code",
   "execution_count": 50,
   "metadata": {
    "collapsed": true
   },
   "outputs": [],
   "source": [
    "data['log_MRI'] = np.log(data.MRI_Count)"
   ]
  },
  {
   "cell_type": "code",
   "execution_count": 51,
   "metadata": {
    "collapsed": true
   },
   "outputs": [],
   "source": [
    "groupby_gender = data.groupby('Gender')"
   ]
  },
  {
   "cell_type": "code",
   "execution_count": 52,
   "metadata": {
    "collapsed": false
   },
   "outputs": [
    {
     "data": {
      "text/plain": [
       "Gender\n",
       "Female    862654\n",
       "Male      954855\n",
       "Name: MRI_Count, dtype: int64"
      ]
     },
     "execution_count": 52,
     "metadata": {},
     "output_type": "execute_result"
    }
   ],
   "source": [
    "groupby_gender.MRI_Count.mean()"
   ]
  },
  {
   "cell_type": "code",
   "execution_count": 53,
   "metadata": {
    "collapsed": false
   },
   "outputs": [
    {
     "data": {
      "text/plain": [
       "Gender\n",
       "Female    13.665830\n",
       "Male      13.767731\n",
       "Name: log_MRI, dtype: float64"
      ]
     },
     "execution_count": 53,
     "metadata": {},
     "output_type": "execute_result"
    }
   ],
   "source": [
    "groupby_gender.log_MRI.mean()"
   ]
  },
  {
   "cell_type": "code",
   "execution_count": 76,
   "metadata": {
    "collapsed": false
   },
   "outputs": [],
   "source": [
    "from pandas.tools import plotting\n",
    "import numpy as np\n",
    "import matplotlib as mpl\n",
    "import matplotlib.pyplot as plt\n",
    "%matplotlib inline"
   ]
  },
  {
   "cell_type": "code",
   "execution_count": 78,
   "metadata": {
    "collapsed": false
   },
   "outputs": [
    {
     "data": {
      "text/plain": [
       "array([[<matplotlib.axes._subplots.AxesSubplot object at 0x11282aa50>,\n",
       "        <matplotlib.axes._subplots.AxesSubplot object at 0x1118bde10>,\n",
       "        <matplotlib.axes._subplots.AxesSubplot object at 0x11184ba10>],\n",
       "       [<matplotlib.axes._subplots.AxesSubplot object at 0x111b55490>,\n",
       "        <matplotlib.axes._subplots.AxesSubplot object at 0x11156b550>,\n",
       "        <matplotlib.axes._subplots.AxesSubplot object at 0x1115a7250>],\n",
       "       [<matplotlib.axes._subplots.AxesSubplot object at 0x1118fb210>,\n",
       "        <matplotlib.axes._subplots.AxesSubplot object at 0x111a4b0d0>,\n",
       "        <matplotlib.axes._subplots.AxesSubplot object at 0x111e08310>]], dtype=object)"
      ]
     },
     "execution_count": 78,
     "metadata": {},
     "output_type": "execute_result"
    },
    {
     "data": {
      "image/png": "[encoded data removed]",
      "text/plain": [
       "<matplotlib.figure.Figure at 0x112d7be90>"
      ]
     },
     "metadata": {},
     "output_type": "display_data"
    }
   ],
   "source": [
    "plotting.scatter_matrix(data[['Weight', 'Height', 'MRI_Count']])"
   ]
  },
  {
   "cell_type": "markdown",
   "metadata": {},
   "source": []
  },
  {
   "cell_type": "code",
   "execution_count": 80,
   "metadata": {
    "collapsed": false
   },
   "outputs": [],
   "source": [
    "plotting.scatter_matrix?"
   ]
  },
  {
   "cell_type": "code",
   "execution_count": 83,
   "metadata": {
    "collapsed": false
   },
   "outputs": [
    {
     "data": {
      "text/plain": [
       "<matplotlib.text.Text at 0x113bfb750>"
      ]
     },
     "execution_count": 83,
     "metadata": {},
     "output_type": "execute_result"
    },
    {
     "data": {
      "image/png": "[encoded data removed]",
      "text/plain": [
       "<matplotlib.figure.Figure at 0x113be8750>"
      ]
     },
     "metadata": {},
     "output_type": "display_data"
    }
   ],
   "source": [
    "plt.title('Females')"
   ]
  },
  {
   "cell_type": "markdown",
   "metadata": {},
   "source": [
    "# Hypothesis testing: comparing two groups"
   ]
  },
  {
   "cell_type": "code",
   "execution_count": 87,
   "metadata": {
    "collapsed": true
   },
   "outputs": [],
   "source": [
    "from scipy import stats"
   ]
  },
  {
   "cell_type": "code",
   "execution_count": 88,
   "metadata": {
    "collapsed": false
   },
   "outputs": [
    {
     "ename": "AttributeError",
     "evalue": "'module' object has no attribute 'ttest_lsamp'",
     "output_type": "error",
     "traceback": [
      "\u001b[0;31m---------------------------------------------------------------------------\u001b[0m",
      "\u001b[0;31mAttributeError\u001b[0m                            Traceback (most recent call last)",
      "\u001b[0;32m<ipython-input-88-fa747dc63501>\u001b[0m in \u001b[0;36m<module>\u001b[0;34m()\u001b[0m\n\u001b[0;32m----> 1\u001b[0;31m \u001b[0mstats\u001b[0m\u001b[0;34m.\u001b[0m\u001b[0mttest_lsamp\u001b[0m\u001b[0;34m(\u001b[0m\u001b[0mdata\u001b[0m\u001b[0;34m[\u001b[0m\u001b[0;34m'VIQ'\u001b[0m\u001b[0;34m]\u001b[0m\u001b[0;34m,\u001b[0m \u001b[0;36m0\u001b[0m\u001b[0;34m)\u001b[0m\u001b[0;34m\u001b[0m\u001b[0m\n\u001b[0m",
      "\u001b[0;31mAttributeError\u001b[0m: 'module' object has no attribute 'ttest_lsamp'"
     ]
    }
   ],
   "source": [
    "stats.ttest_lsamp(data['VIQ'], 0)"
   ]
  },
  {
   "cell_type": "code",
   "execution_count": null,
   "metadata": {
    "collapsed": true
   },
   "outputs": [],
   "source": []
  },
  {
   "cell_type": "code",
   "execution_count": null,
   "metadata": {
    "collapsed": true
   },
   "outputs": [],
   "source": []
  }
 ],
 "metadata": {
  "kernelspec": {
   "display_name": "Python 2",
   "language": "python",
   "name": "python2"
  },
  "language_info": {
   "codemirror_mode": {
    "name": "ipython",
    "version": 2
   },
   "file_extension": ".py",
   "mimetype": "text/x-python",
   "name": "python",
   "nbconvert_exporter": "python",
   "pygments_lexer": "ipython2",
   "version": "2.7.11"
  }
 },
 "nbformat": 4,
 "nbformat_minor": 0
}
