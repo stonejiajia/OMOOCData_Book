{
 "cells": [
  {
   "cell_type": "code",
   "execution_count": 1,
   "metadata": {
    "collapsed": false
   },
   "outputs": [
    {
     "data": {
      "text/plain": [
       "-2"
      ]
     },
     "execution_count": 1,
     "metadata": {},
     "output_type": "execute_result"
    }
   ],
   "source": [
    "-3//2"
   ]
  },
  {
   "cell_type": "code",
   "execution_count": 2,
   "metadata": {
    "collapsed": false
   },
   "outputs": [
    {
     "data": {
      "text/plain": [
       "1"
      ]
     },
     "execution_count": 2,
     "metadata": {},
     "output_type": "execute_result"
    }
   ],
   "source": [
    "8 ** (1/3)"
   ]
  },
  {
   "cell_type": "code",
   "execution_count": 3,
   "metadata": {
    "collapsed": false
   },
   "outputs": [
    {
     "data": {
      "text/plain": [
       "30"
      ]
     },
     "execution_count": 3,
     "metadata": {},
     "output_type": "execute_result"
    }
   ],
   "source": [
    "5 + 5 * 5"
   ]
  },
  {
   "cell_type": "code",
   "execution_count": 4,
   "metadata": {
    "collapsed": false
   },
   "outputs": [
    {
     "data": {
      "text/plain": [
       "Fraction(3, 4)"
      ]
     },
     "execution_count": 4,
     "metadata": {},
     "output_type": "execute_result"
    }
   ],
   "source": [
    "from fractions import Fraction\n",
    "f = Fraction(3, 4)\n",
    "f"
   ]
  },
  {
   "cell_type": "code",
   "execution_count": 5,
   "metadata": {
    "collapsed": true
   },
   "outputs": [],
   "source": [
    "a = 2 + 3j"
   ]
  },
  {
   "cell_type": "code",
   "execution_count": 6,
   "metadata": {
    "collapsed": false
   },
   "outputs": [
    {
     "data": {
      "text/plain": [
       "complex"
      ]
     },
     "execution_count": 6,
     "metadata": {},
     "output_type": "execute_result"
    }
   ],
   "source": [
    "type(a)"
   ]
  },
  {
   "cell_type": "code",
   "execution_count": 7,
   "metadata": {
    "collapsed": true
   },
   "outputs": [],
   "source": [
    "a = complex(2, 3)"
   ]
  },
  {
   "cell_type": "code",
   "execution_count": 9,
   "metadata": {
    "collapsed": false
   },
   "outputs": [
    {
     "data": {
      "text/plain": [
       "(2+3j)"
      ]
     },
     "execution_count": 9,
     "metadata": {},
     "output_type": "execute_result"
    }
   ],
   "source": [
    "a"
   ]
  },
  {
   "cell_type": "code",
   "execution_count": 10,
   "metadata": {
    "collapsed": false
   },
   "outputs": [
    {
     "data": {
      "text/plain": [
       "(5+6j)"
      ]
     },
     "execution_count": 10,
     "metadata": {},
     "output_type": "execute_result"
    }
   ],
   "source": [
    "b = 3 + 3j\n",
    "a + b"
   ]
  },
  {
   "cell_type": "code",
   "execution_count": 11,
   "metadata": {
    "collapsed": false
   },
   "outputs": [
    {
     "data": {
      "text/plain": [
       "(-1+0j)"
      ]
     },
     "execution_count": 11,
     "metadata": {},
     "output_type": "execute_result"
    }
   ],
   "source": [
    "a - b"
   ]
  },
  {
   "cell_type": "code",
   "execution_count": 12,
   "metadata": {
    "collapsed": false
   },
   "outputs": [
    {
     "data": {
      "text/plain": [
       "(-3+15j)"
      ]
     },
     "execution_count": 12,
     "metadata": {},
     "output_type": "execute_result"
    }
   ],
   "source": [
    "a * b"
   ]
  },
  {
   "cell_type": "code",
   "execution_count": 13,
   "metadata": {
    "collapsed": false
   },
   "outputs": [
    {
     "data": {
      "text/plain": [
       "(0.8333333333333334+0.16666666666666666j)"
      ]
     },
     "execution_count": 13,
     "metadata": {},
     "output_type": "execute_result"
    }
   ],
   "source": [
    "a / b"
   ]
  },
  {
   "cell_type": "code",
   "execution_count": 14,
   "metadata": {
    "collapsed": true
   },
   "outputs": [],
   "source": [
    "z = 2 + 3j"
   ]
  },
  {
   "cell_type": "code",
   "execution_count": 15,
   "metadata": {
    "collapsed": false
   },
   "outputs": [
    {
     "data": {
      "text/plain": [
       "2.0"
      ]
     },
     "execution_count": 15,
     "metadata": {},
     "output_type": "execute_result"
    }
   ],
   "source": [
    "z.real"
   ]
  },
  {
   "cell_type": "code",
   "execution_count": 16,
   "metadata": {
    "collapsed": false
   },
   "outputs": [
    {
     "data": {
      "text/plain": [
       "3.0"
      ]
     },
     "execution_count": 16,
     "metadata": {},
     "output_type": "execute_result"
    }
   ],
   "source": [
    "z.imag"
   ]
  },
  {
   "cell_type": "code",
   "execution_count": 17,
   "metadata": {
    "collapsed": false
   },
   "outputs": [
    {
     "data": {
      "text/plain": [
       "(2-3j)"
      ]
     },
     "execution_count": 17,
     "metadata": {},
     "output_type": "execute_result"
    }
   ],
   "source": [
    "z.conjugate()"
   ]
  },
  {
   "cell_type": "code",
   "execution_count": 18,
   "metadata": {
    "collapsed": false
   },
   "outputs": [
    {
     "data": {
      "text/plain": [
       "3.605551275463989"
      ]
     },
     "execution_count": 18,
     "metadata": {},
     "output_type": "execute_result"
    }
   ],
   "source": [
    "(z.real ** 2 + z.imag **2)** 0.5"
   ]
  },
  {
   "cell_type": "code",
   "execution_count": 19,
   "metadata": {
    "collapsed": false
   },
   "outputs": [
    {
     "data": {
      "text/plain": [
       "3.605551275463989"
      ]
     },
     "execution_count": 19,
     "metadata": {},
     "output_type": "execute_result"
    }
   ],
   "source": [
    "abs(z)"
   ]
  },
  {
   "cell_type": "code",
   "execution_count": 20,
   "metadata": {
    "collapsed": false
   },
   "outputs": [
    {
     "name": "stdout",
     "output_type": "stream",
     "text": [
      "1\n"
     ]
    }
   ],
   "source": [
    "a = input()"
   ]
  },
  {
   "cell_type": "code",
   "execution_count": 21,
   "metadata": {
    "collapsed": false
   },
   "outputs": [
    {
     "data": {
      "text/plain": [
       "1"
      ]
     },
     "execution_count": 21,
     "metadata": {},
     "output_type": "execute_result"
    }
   ],
   "source": [
    "a\n"
   ]
  },
  {
   "cell_type": "code",
   "execution_count": 22,
   "metadata": {
    "collapsed": true
   },
   "outputs": [],
   "source": [
    "s1 = 'a string'"
   ]
  },
  {
   "cell_type": "code",
   "execution_count": 23,
   "metadata": {
    "collapsed": true
   },
   "outputs": [],
   "source": [
    "s2 = \"a string\""
   ]
  },
  {
   "cell_type": "code",
   "execution_count": 25,
   "metadata": {
    "collapsed": false
   },
   "outputs": [],
   "source": [
    "a = '1'"
   ]
  },
  {
   "cell_type": "code",
   "execution_count": 26,
   "metadata": {
    "collapsed": false
   },
   "outputs": [
    {
     "data": {
      "text/plain": [
       "2"
      ]
     },
     "execution_count": 26,
     "metadata": {},
     "output_type": "execute_result"
    }
   ],
   "source": [
    "int(a) + 1"
   ]
  },
  {
   "cell_type": "code",
   "execution_count": 27,
   "metadata": {
    "collapsed": false
   },
   "outputs": [
    {
     "data": {
      "text/plain": [
       "2.0"
      ]
     },
     "execution_count": 27,
     "metadata": {},
     "output_type": "execute_result"
    }
   ],
   "source": [
    "float(a) + 1"
   ]
  },
  {
   "cell_type": "code",
   "execution_count": 30,
   "metadata": {
    "collapsed": false
   },
   "outputs": [
    {
     "name": "stdout",
     "output_type": "stream",
     "text": [
      "3/4\n"
     ]
    }
   ],
   "source": [
    "a = float(input())\n"
   ]
  },
  {
   "cell_type": "code",
   "execution_count": 31,
   "metadata": {
    "collapsed": false
   },
   "outputs": [
    {
     "ename": "ValueError",
     "evalue": "invalid literal for int() with base 10: '2.0'",
     "output_type": "error",
     "traceback": [
      "\u001b[0;31m---------------------------------------------------------------------------\u001b[0m",
      "\u001b[0;31mValueError\u001b[0m                                Traceback (most recent call last)",
      "\u001b[0;32m<ipython-input-31-1a2e39c94309>\u001b[0m in \u001b[0;36m<module>\u001b[0;34m()\u001b[0m\n\u001b[0;32m----> 1\u001b[0;31m \u001b[0mint\u001b[0m\u001b[0;34m(\u001b[0m\u001b[0;34m'2.0'\u001b[0m\u001b[0;34m)\u001b[0m\u001b[0;34m\u001b[0m\u001b[0m\n\u001b[0m",
      "\u001b[0;31mValueError\u001b[0m: invalid literal for int() with base 10: '2.0'"
     ]
    }
   ],
   "source": [
    "int('2.0')"
   ]
  },
  {
   "cell_type": "code",
   "execution_count": 32,
   "metadata": {
    "collapsed": false
   },
   "outputs": [
    {
     "name": "stdout",
     "output_type": "stream",
     "text": [
      "Enter a number: 3/4\n"
     ]
    }
   ],
   "source": [
    "try:\n",
    "    a = float(input('Enter a number: '))\n",
    "except ValueError:\n",
    "    print('You enter an invalid number')"
   ]
  },
  {
   "cell_type": "code",
   "execution_count": 34,
   "metadata": {
    "collapsed": false
   },
   "outputs": [
    {
     "name": "stdout",
     "output_type": "stream",
     "text": [
      "Enter a complex number: 2 + 3j\n"
     ]
    }
   ],
   "source": [
    "z = complex(input('Enter a complex number: '))"
   ]
  },
  {
   "cell_type": "code",
   "execution_count": 35,
   "metadata": {
    "collapsed": false
   },
   "outputs": [
    {
     "data": {
      "text/plain": [
       "(2+3j)"
      ]
     },
     "execution_count": 35,
     "metadata": {},
     "output_type": "execute_result"
    }
   ],
   "source": [
    "z\n"
   ]
  },
  {
   "cell_type": "code",
   "execution_count": 36,
   "metadata": {
    "collapsed": false
   },
   "outputs": [
    {
     "name": "stdout",
     "output_type": "stream",
     "text": [
      "Enter a complex number: 2 + 3j\n"
     ]
    }
   ],
   "source": [
    "z = complex(input('Enter a complex number: '))"
   ]
  },
  {
   "cell_type": "code",
   "execution_count": 38,
   "metadata": {
    "collapsed": false
   },
   "outputs": [],
   "source": [
    "def is_factor(a, b):\n",
    "    if b % a == 0:\n",
    "        return True\n",
    "    else:\n",
    "        return False"
   ]
  },
  {
   "cell_type": "code",
   "execution_count": 39,
   "metadata": {
    "collapsed": false
   },
   "outputs": [
    {
     "data": {
      "text/plain": [
       "True"
      ]
     },
     "execution_count": 39,
     "metadata": {},
     "output_type": "execute_result"
    }
   ],
   "source": [
    "is_factor(4, 1024)"
   ]
  },
  {
   "cell_type": "code",
   "execution_count": 41,
   "metadata": {
    "collapsed": false
   },
   "outputs": [
    {
     "name": "stdout",
     "output_type": "stream",
     "text": [
      "0\n",
      "1\n",
      "2\n",
      "3\n",
      "4\n"
     ]
    }
   ],
   "source": [
    "for i in range(5):\n",
    "    print i"
   ]
  },
  {
   "cell_type": "code",
   "execution_count": 42,
   "metadata": {
    "collapsed": false
   },
   "outputs": [
    {
     "name": "stdout",
     "output_type": "stream",
     "text": [
      "1\n",
      "2\n",
      "3\n",
      "4\n",
      "5\n",
      "6\n",
      "7\n",
      "8\n",
      "9\n"
     ]
    }
   ],
   "source": [
    "for i in range(1, 10):\n",
    "    print i"
   ]
  },
  {
   "cell_type": "code",
   "execution_count": 46,
   "metadata": {
    "collapsed": false
   },
   "outputs": [
    {
     "name": "stdout",
     "output_type": "stream",
     "text": [
      "Your Number Please: 15.5\n",
      "Please enter a positive integer\n"
     ]
    }
   ],
   "source": [
    "def factors(b):\n",
    "    for i in range(1, b+1): \n",
    "        if b % i == 0:\n",
    "               print(i)\n",
    "if __name__ == '__main__':\n",
    "    b = input('Your Number Please: ')\n",
    "    b = float(b)\n",
    "    if b > 0 and b.is_integer(): \n",
    "        factors(int(b))\n",
    "    else:\n",
    "        print('Please enter a positive integer')\n"
   ]
  },
  {
   "cell_type": "markdown",
   "metadata": {},
   "source": [
    "# Generating Multiplication\n"
   ]
  },
  {
   "cell_type": "code",
   "execution_count": 1,
   "metadata": {
    "collapsed": false
   },
   "outputs": [
    {
     "name": "stdout",
     "output_type": "stream",
     "text": [
      "At the grocery store, I bought some apples and bananas and grapes\n"
     ]
    }
   ],
   "source": [
    "item1 = 'apples'\n",
    "item2 = 'bananas'\n",
    "item3 = 'grapes'\n",
    "print('At the grocery store, I bought some {0} and {1} and {2}'.format(item1, item2, item3))"
   ]
  },
  {
   "cell_type": "code",
   "execution_count": 2,
   "metadata": {
    "collapsed": true
   },
   "outputs": [],
   "source": [
    "?format\n"
   ]
  },
  {
   "cell_type": "markdown",
   "metadata": {},
   "source": [
    "format 创建3个标签\n",
    "Docstring:\n",
    "format(value[, format_spec]) -> string\n",
    "\n",
    "Returns value.__format__(format_spec)\n",
    "format_spec defaults to \"\"\n",
    "Type:      builtin_function_or_method"
   ]
  },
  {
   "cell_type": "code",
   "execution_count": 3,
   "metadata": {
    "collapsed": false
   },
   "outputs": [
    {
     "name": "stdout",
     "output_type": "stream",
     "text": [
      "Enter a number: 1\n",
      "1.0 x 1 = 1.0\n",
      "1.0 x 2 = 2.0\n",
      "1.0 x 3 = 3.0\n",
      "1.0 x 4 = 4.0\n",
      "1.0 x 5 = 5.0\n",
      "1.0 x 6 = 6.0\n",
      "1.0 x 7 = 7.0\n",
      "1.0 x 8 = 8.0\n",
      "1.0 x 9 = 9.0\n",
      "1.0 x 10 = 10.0\n"
     ]
    }
   ],
   "source": [
    "def multi_table(a):\n",
    "    for i in range(1, 11):\n",
    "        print('{0} x {1} = {2}'.format(a, i, a*i))\n",
    "if __name__ == '__main__':\n",
    "    a = input('Enter a number: ')\n",
    "    multi_table(float(a))"
   ]
  },
  {
   "cell_type": "code",
   "execution_count": 4,
   "metadata": {
    "collapsed": false
   },
   "outputs": [
    {
     "data": {
      "text/plain": [
       "'1.25456'"
      ]
     },
     "execution_count": 4,
     "metadata": {},
     "output_type": "execute_result"
    }
   ],
   "source": [
    "'{0}'.format(1.25456)"
   ]
  },
  {
   "cell_type": "code",
   "execution_count": 5,
   "metadata": {
    "collapsed": false
   },
   "outputs": [
    {
     "data": {
      "text/plain": [
       "'1.25'"
      ]
     },
     "execution_count": 5,
     "metadata": {},
     "output_type": "execute_result"
    }
   ],
   "source": [
    "'{0:.2f}'.format(1.25456)"
   ]
  },
  {
   "cell_type": "code",
   "execution_count": 6,
   "metadata": {
    "collapsed": false
   },
   "outputs": [
    {
     "data": {
      "text/plain": [
       "'1.00'"
      ]
     },
     "execution_count": 6,
     "metadata": {},
     "output_type": "execute_result"
    }
   ],
   "source": [
    "'{0:.2f}'.format(1)"
   ]
  },
  {
   "cell_type": "markdown",
   "metadata": {},
   "source": [
    "# Converting Unit of Measurement"
   ]
  },
  {
   "cell_type": "code",
   "execution_count": 7,
   "metadata": {
    "collapsed": false
   },
   "outputs": [
    {
     "data": {
      "text/plain": [
       "0.6476999999999999"
      ]
     },
     "execution_count": 7,
     "metadata": {},
     "output_type": "execute_result"
    }
   ],
   "source": [
    "(25.5 * 2.54) /  100"
   ]
  },
  {
   "cell_type": "code",
   "execution_count": 8,
   "metadata": {
    "collapsed": false
   },
   "outputs": [
    {
     "data": {
      "text/plain": [
       "1045.85"
      ]
     },
     "execution_count": 8,
     "metadata": {},
     "output_type": "execute_result"
    }
   ],
   "source": [
    "650 * 1.609"
   ]
  },
  {
   "cell_type": "code",
   "execution_count": 16,
   "metadata": {
    "collapsed": false
   },
   "outputs": [
    {
     "data": {
      "text/plain": [
       "0.0"
      ]
     },
     "execution_count": 16,
     "metadata": {},
     "output_type": "execute_result"
    }
   ],
   "source": [
    "F = 98.6\n",
    "(98.6 - 32) * (5 / 9)"
   ]
  },
  {
   "cell_type": "code",
   "execution_count": 20,
   "metadata": {
    "collapsed": false
   },
   "outputs": [
    {
     "data": {
      "text/plain": [
       "69"
      ]
     },
     "execution_count": 20,
     "metadata": {},
     "output_type": "execute_result"
    }
   ],
   "source": [
    "C = 37 \n",
    "C * (9 / 5) + 32"
   ]
  },
  {
   "cell_type": "code",
   "execution_count": 1,
   "metadata": {
    "collapsed": false
   },
   "outputs": [
    {
     "ename": "ImportError",
     "evalue": "No module named plotly.plotly",
     "output_type": "error",
     "traceback": [
      "\u001b[0;31m---------------------------------------------------------------------------\u001b[0m",
      "\u001b[0;31mImportError\u001b[0m                               Traceback (most recent call last)",
      "\u001b[0;32m<ipython-input-1-ffa82bc9c5f6>\u001b[0m in \u001b[0;36m<module>\u001b[0;34m()\u001b[0m\n\u001b[0;32m----> 1\u001b[0;31m \u001b[0;32mimport\u001b[0m \u001b[0mplotly\u001b[0m\u001b[0;34m.\u001b[0m\u001b[0mplotly\u001b[0m \u001b[0;32mas\u001b[0m \u001b[0mpy\u001b[0m\u001b[0;34m\u001b[0m\u001b[0m\n\u001b[0m\u001b[1;32m      2\u001b[0m \u001b[0;32mfrom\u001b[0m \u001b[0mplotly\u001b[0m\u001b[0;34m.\u001b[0m\u001b[0mgraph_objs\u001b[0m \u001b[0;32mimport\u001b[0m \u001b[0;34m*\u001b[0m\u001b[0;34m\u001b[0m\u001b[0m\n\u001b[1;32m      3\u001b[0m \u001b[0mpy\u001b[0m\u001b[0;34m.\u001b[0m\u001b[0msign_in\u001b[0m\u001b[0;34m(\u001b[0m\u001b[0;34m'username'\u001b[0m\u001b[0;34m,\u001b[0m \u001b[0;34m'api_key'\u001b[0m\u001b[0;34m)\u001b[0m\u001b[0;34m\u001b[0m\u001b[0m\n\u001b[1;32m      4\u001b[0m trace1 = Histogram(\n\u001b[1;32m      5\u001b[0m     \u001b[0my\u001b[0m\u001b[0;34m=\u001b[0m\u001b[0;34m[\u001b[0m\u001b[0;34m'627'\u001b[0m\u001b[0;34m,\u001b[0m \u001b[0;34m'613'\u001b[0m\u001b[0;34m,\u001b[0m \u001b[0;34m'605'\u001b[0m\u001b[0;34m,\u001b[0m \u001b[0;34m'715'\u001b[0m\u001b[0;34m,\u001b[0m \u001b[0;34m'616'\u001b[0m\u001b[0;34m,\u001b[0m \u001b[0;34m'621'\u001b[0m\u001b[0;34m,\u001b[0m \u001b[0;34m'608'\u001b[0m\u001b[0;34m,\u001b[0m \u001b[0;34m'627'\u001b[0m\u001b[0;34m,\u001b[0m \u001b[0;34m'775'\u001b[0m\u001b[0;34m,\u001b[0m \u001b[0;34m'692'\u001b[0m\u001b[0;34m,\u001b[0m \u001b[0;34m'605'\u001b[0m\u001b[0;34m,\u001b[0m \u001b[0;34m'608'\u001b[0m\u001b[0;34m,\u001b[0m \u001b[0;34m'608'\u001b[0m\u001b[0;34m,\u001b[0m \u001b[0;34m'608'\u001b[0m\u001b[0;34m,\u001b[0m \u001b[0;34m'613'\u001b[0m\u001b[0;34m,\u001b[0m \u001b[0;34m'650'\u001b[0m\u001b[0;34m,\u001b[0m \u001b[0;34m'598'\u001b[0m\u001b[0;34m,\u001b[0m \u001b[0;34m'593'\u001b[0m\u001b[0;34m,\u001b[0m \u001b[0;34m'610'\u001b[0m\u001b[0;34m,\u001b[0m \u001b[0;34m'597'\u001b[0m\u001b[0;34m,\u001b[0m \u001b[0;34m'643'\u001b[0m\u001b[0;34m,\u001b[0m \u001b[0;34m'636'\u001b[0m\u001b[0;34m,\u001b[0m \u001b[0;34m'660'\u001b[0m\u001b[0;34m,\u001b[0m \u001b[0;34m'640'\u001b[0m\u001b[0;34m,\u001b[0m \u001b[0;34m'649'\u001b[0m\u001b[0;34m,\u001b[0m \u001b[0;34m'590'\u001b[0m\u001b[0;34m,\u001b[0m \u001b[0;34m'634'\u001b[0m\u001b[0;34m,\u001b[0m \u001b[0;34m'602'\u001b[0m\u001b[0;34m,\u001b[0m \u001b[0;34m'595'\u001b[0m\u001b[0;34m,\u001b[0m \u001b[0;34m'605'\u001b[0m\u001b[0;34m,\u001b[0m \u001b[0;34m'621'\u001b[0m\u001b[0;34m,\u001b[0m \u001b[0;34m'625'\u001b[0m\u001b[0;34m,\u001b[0m \u001b[0;34m'608'\u001b[0m\u001b[0;34m,\u001b[0m \u001b[0;34m'657'\u001b[0m\u001b[0;34m,\u001b[0m \u001b[0;34m'592'\u001b[0m\u001b[0;34m,\u001b[0m \u001b[0;34m'588'\u001b[0m\u001b[0;34m,\u001b[0m \u001b[0;34m'625'\u001b[0m\u001b[0;34m,\u001b[0m \u001b[0;34m'597'\u001b[0m\u001b[0;34m,\u001b[0m \u001b[0;34m'632'\u001b[0m\u001b[0;34m,\u001b[0m \u001b[0;34m'645'\u001b[0m\u001b[0;34m,\u001b[0m \u001b[0;34m'604'\u001b[0m\u001b[0;34m,\u001b[0m \u001b[0;34m'670'\u001b[0m\u001b[0;34m,\u001b[0m \u001b[0;34m'600'\u001b[0m\u001b[0;34m,\u001b[0m \u001b[0;34m'598'\u001b[0m\u001b[0;34m,\u001b[0m \u001b[0;34m'596'\u001b[0m\u001b[0;34m,\u001b[0m \u001b[0;34m'593'\u001b[0m\u001b[0;34m,\u001b[0m \u001b[0;34m'602'\u001b[0m\u001b[0;34m,\u001b[0m \u001b[0;34m'600'\u001b[0m\u001b[0;34m,\u001b[0m \u001b[0;34m'611'\u001b[0m\u001b[0;34m,\u001b[0m \u001b[0;34m'607'\u001b[0m\u001b[0;34m,\u001b[0m \u001b[0;34m'579'\u001b[0m\u001b[0;34m,\u001b[0m \u001b[0;34m'612'\u001b[0m\u001b[0;34m,\u001b[0m \u001b[0;34m'605'\u001b[0m\u001b[0;34m,\u001b[0m \u001b[0;34m'632'\u001b[0m\u001b[0;34m,\u001b[0m \u001b[0;34m'613'\u001b[0m\u001b[0;34m,\u001b[0m \u001b[0;34m'588'\u001b[0m\u001b[0;34m,\u001b[0m \u001b[0;34m'610'\u001b[0m\u001b[0;34m,\u001b[0m \u001b[0;34m'601'\u001b[0m\u001b[0;34m,\u001b[0m \u001b[0;34m'592'\u001b[0m\u001b[0;34m,\u001b[0m \u001b[0;34m'597'\u001b[0m\u001b[0;34m,\u001b[0m \u001b[0;34m'642'\u001b[0m\u001b[0;34m,\u001b[0m \u001b[0;34m'590'\u001b[0m\u001b[0;34m,\u001b[0m \u001b[0;34m'614'\u001b[0m\u001b[0;34m,\u001b[0m \u001b[0;34m'587'\u001b[0m\u001b[0;34m,\u001b[0m \u001b[0;34m'607'\u001b[0m\u001b[0;34m,\u001b[0m \u001b[0;34m'613'\u001b[0m\u001b[0;34m,\u001b[0m \u001b[0;34m'610'\u001b[0m\u001b[0;34m,\u001b[0m \u001b[0;34m'676'\u001b[0m\u001b[0;34m,\u001b[0m \u001b[0;34m'607'\u001b[0m\u001b[0;34m,\u001b[0m \u001b[0;34m'596'\u001b[0m\u001b[0;34m,\u001b[0m \u001b[0;34m'586'\u001b[0m\u001b[0;34m,\u001b[0m \u001b[0;34m'614'\u001b[0m\u001b[0;34m,\u001b[0m \u001b[0;34m'611'\u001b[0m\u001b[0;34m,\u001b[0m \u001b[0;34m'715'\u001b[0m\u001b[0;34m,\u001b[0m \u001b[0;34m'573'\u001b[0m\u001b[0;34m,\u001b[0m \u001b[0;34m'567'\u001b[0m\u001b[0;34m,\u001b[0m \u001b[0;34m'593'\u001b[0m\u001b[0;34m,\u001b[0m \u001b[0;34m'583'\u001b[0m\u001b[0;34m,\u001b[0m \u001b[0;34m'603'\u001b[0m\u001b[0;34m,\u001b[0m \u001b[0;34m'580'\u001b[0m\u001b[0;34m,\u001b[0m \u001b[0;34m'595'\u001b[0m\u001b[0;34m,\u001b[0m \u001b[0;34m'616'\u001b[0m\u001b[0;34m,\u001b[0m \u001b[0;34m'601'\u001b[0m\u001b[0;34m,\u001b[0m \u001b[0;34m'612'\u001b[0m\u001b[0;34m,\u001b[0m \u001b[0;34m'630'\u001b[0m\u001b[0;34m,\u001b[0m \u001b[0;34m'598'\u001b[0m\u001b[0;34m,\u001b[0m \u001b[0;34m'632'\u001b[0m\u001b[0;34m,\u001b[0m \u001b[0;34m'639'\u001b[0m\u001b[0;34m,\u001b[0m \u001b[0;34m'595'\u001b[0m\u001b[0;34m,\u001b[0m \u001b[0;34m'654'\u001b[0m\u001b[0;34m,\u001b[0m \u001b[0;34m'654'\u001b[0m\u001b[0;34m,\u001b[0m \u001b[0;34m'626'\u001b[0m\u001b[0;34m,\u001b[0m \u001b[0;34m'587'\u001b[0m\u001b[0;34m,\u001b[0m \u001b[0;34m'590'\u001b[0m\u001b[0;34m]\u001b[0m\u001b[0;34m,\u001b[0m\u001b[0;34m\u001b[0m\u001b[0m\n",
      "\u001b[0;31mImportError\u001b[0m: No module named plotly.plotly"
     ]
    }
   ],
   "source": [
    "\n",
    "\n",
    "import plotly.plotly as py\n",
    "from plotly.graph_objs import \n",
    "py.sign_in('username', 'api_key')\n",
    "trace1 = Histogram(\n",
    "    y=['627', '613', '605', '715', '616', '621', '608', '627', '775', '692', '605', '608', '608', '608', '613', '650', '598', '593', '610', '597', '643', '636', '660', '640', '649', '590', '634', '602', '595', '605', '621', '625', '608', '657', '592', '588', '625', '597', '632', '645', '604', '670', '600', '598', '596', '593', '602', '600', '611', '607', '579', '612', '605', '632', '613', '588', '610', '601', '592', '597', '642', '590', '614', '587', '607', '613', '610', '676', '607', '596', '586', '614', '611', '715', '573', '567', '593', '583', '603', '580', '595', '616', '601', '612', '630', '598', '632', '639', '595', '654', '654', '626', '587', '590'],\n",
    "    name='miner user guides',\n",
    "    opacity=0.95,\n",
    "    uid='595e58',\n",
    "    ybins=YBins(\n",
    "        end=779.5,\n",
    "        size=20,\n",
    "        start=559.5\n",
    "    )\n",
    ")\n",
    "trace2 = Histogram(\n",
    "    y=['628', '620', '608', '603', '605', '590', '602', '630', '777', '694', '607', '611', '612', '610', '617', '652', '602', '595', '614', '601', '647', '640', '698', '645', '687', '594', '669', '606', '599', '609', '626', '640', '612', '660', '595', '591', '627', '601', '634', '651', '606', '700', '602', '600', '599', '598', '604', '602', '616', '609', '583', '616', '607', '640', '617', '590', '612', '603', '595', '600', '646', '593', '617', '590', '613', '616', '615', '680', '610', '600', '590', '618', '615', '719', '578', '570', '596', '586', '605', '586', '598', '620', '605', '614', '634', '600', '636', '641', '599', '688', '688', '678', '591', '594'],\n",
    "    name='miner apps',\n",
    "    opacity=0.95,\n",
    "    uid='00af04',\n",
    "    ybins=YBins(\n",
    "        end=779.5,\n",
    "        size=20,\n",
    "        start=559.5\n",
    "    )\n",
    ")\n",
    "trace3 = Histogram(\n",
    "    y=['629', '623', '617', '607', '609', '594', '604', '640', '784', '702', '622', '620', '620', '619', '624', '660', '610', '605', '622', '611', '655', '650', '701', '652', '699', '595', '677', '614', '606', '617', '627', '643', '620', '668', '598', '602', '635', '608', '640', '711', '609', '705', '610', '603', '607', '600', '612', '609', '623', '616', '583', '626', '614', '680', '625', '593', '615', '606', '602', '603', '653', '603', '624', '597', '614', '623', '618', '687', '613', '608', '598', '679', '618', '720', '586', '579', '604', '595', '612', '587', '601', '627', '614', '622', '644', '608', '643', '644', '606', '708', '708', '681', '599', '601'],\n",
    "    name='store',\n",
    "    opacity=0.95,\n",
    "    uid='b3766e',\n",
    "    ybins=YBins(\n",
    "        end=799.5,\n",
    "        size=20,\n",
    "        start=559.5\n",
    "    )\n",
    ")\n",
    "trace4 = Histogram(\n",
    "    y=['608', '791', '618', '614', '610', '598', '612', '643', '785', '703', '624', '621', '622', '620', '625', '661', '611', '618', '623', '614', '656', '651', '719', '662', '700', '605', '680', '615', '607', '618', '637', '650', '621', '670', '607', '610', '636', '609', '647', '713', '619', '719', '611', '611', '608', '609', '613', '612', '624', '621', '594', '631', '616', '683', '628', '602', '625', '616', '603', '612', '654', '604', '625', '601', '621', '624', '627', '688', '622', '610', '599', '682', '627', '727', '589', '580', '605', '596', '613', '597', '611', '628', '617', '625', '650', '613', '644', '654', '609', '742', '742', '701', '600', '602'],\n",
    "    name='miner',\n",
    "    opacity=0.95,\n",
    "    uid='65b09c',\n",
    "    ybins=YBins(\n",
    "        end=799.5,\n",
    "        size=20,\n",
    "        start=559.5\n",
    "    )\n",
    ")\n",
    "trace5 = Histogram(\n",
    "    y=['610', '793', '604', '615', '618', '605', '616', '644', '786', '704', '629', '622', '624', '621', '627', '662', '614', '620', '624', '615', '659', '652', '722', '686', '708', '606', '685', '620', '612', '623', '638', '653', '624', '671', '608', '614', '639', '610', '648', '725', '620', '724', '612', '614', '610', '610', '614', '616', '630', '622', '594', '636', '617', '693', '629', '603', '626', '617', '607', '613', '658', '607', '627', '602', '622', '631', '628', '691', '623', '612', '602', '690', '628', '730', '592', '581', '608', '597', '614', '598', '612', '641', '618', '628', '651', '614', '650', '655', '610', '729', '724', '709', '603', '605'],\n",
    "    name='extract',\n",
    "    opacity=0.95,\n",
    "    uid='8c4c03',\n",
    "    ybins=YBins(\n",
    "        end=799.5,\n",
    "        size=20,\n",
    "        start=579.5\n",
    "    )\n",
    ")\n",
    "data = Data([trace1, trace2, trace3, trace4, trace5])\n",
    "layout = Layout(\n",
    "    autosize=True,\n",
    "    height=542,\n",
    "    title='Tracker Apps PIDs Against Frequency',\n",
    "    width=1121,\n",
    "    xaxis=XAxis(\n",
    "        autorange=True,\n",
    "        range=[0, 43.1578947368421],\n",
    "        title='Number of Frequency',\n",
    "        titlefont=dict(\n",
    "            color='#7f7f7f',\n",
    "            family='Courier New, monospace',\n",
    "            size=18\n",
    "        )\n",
    "    ),\n",
    "    yaxis=YAxis(\n",
    "        autorange=True,\n",
    "        range=[559.5, 799.5],\n",
    "        title='Tracker PID',\n",
    "        titlefont=dict(\n",
    "            color='#7f7f7f',\n",
    "            family='Courier New, monospace',\n",
    "            size=18\n",
    "        ),\n",
    "        type='linear'\n",
    "    )\n",
    ")\n",
    "fig = Figure(data=data, layout=layout)\n",
    "plot_url = py.plot(fig)"
   ]
  },
  {
   "cell_type": "code",
   "execution_count": null,
   "metadata": {
    "collapsed": true
   },
   "outputs": [],
   "source": []
  }
 ],
 "metadata": {
  "kernelspec": {
   "display_name": "Python 2",
   "language": "python",
   "name": "python2"
  },
  "language_info": {
   "codemirror_mode": {
    "name": "ipython",
    "version": 2
   },
   "file_extension": ".py",
   "mimetype": "text/x-python",
   "name": "python",
   "nbconvert_exporter": "python",
   "pygments_lexer": "ipython2",
   "version": "2.7.11"
  }
 },
 "nbformat": 4,
 "nbformat_minor": 0
}
